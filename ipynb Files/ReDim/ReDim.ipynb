{
  "nbformat": 4,
  "nbformat_minor": 0,
  "metadata": {
    "colab": {
      "name": "ReDim.ipynb",
      "provenance": [],
      "collapsed_sections": [],
      "toc_visible": true
    },
    "kernelspec": {
      "name": "python3",
      "display_name": "Python 3"
    },
    "language_info": {
      "name": "python"
    }
  },
  "cells": [
    {
      "cell_type": "code",
      "metadata": {
        "id": "P3rvJl97XRPZ"
      },
      "source": [
        "import pandas as pd\n",
        "import numpy as np\n",
        "\n",
        "import matplotlib.pyplot as plt\n",
        "import seaborn as sns"
      ],
      "execution_count": 2,
      "outputs": []
    },
    {
      "cell_type": "markdown",
      "metadata": {
        "id": "1YXlYGq3qXl9"
      },
      "source": [
        "# 02 Feature Selection in scikit-learn"
      ]
    },
    {
      "cell_type": "code",
      "metadata": {
        "id": "ouBzYxUEpfRF"
      },
      "source": [
        "from sklearn.datasets import load_breast_cancer\n",
        "cancer = load_breast_cancer()"
      ],
      "execution_count": 3,
      "outputs": []
    },
    {
      "cell_type": "code",
      "metadata": {
        "colab": {
          "base_uri": "https://localhost:8080/"
        },
        "id": "b9YTn7EMqmPI",
        "outputId": "817e4ebf-5c29-4abd-a32a-05b2929945d2"
      },
      "source": [
        "print(cancer.DESCR)"
      ],
      "execution_count": 4,
      "outputs": [
        {
          "output_type": "stream",
          "text": [
            ".. _breast_cancer_dataset:\n",
            "\n",
            "Breast cancer wisconsin (diagnostic) dataset\n",
            "--------------------------------------------\n",
            "\n",
            "**Data Set Characteristics:**\n",
            "\n",
            "    :Number of Instances: 569\n",
            "\n",
            "    :Number of Attributes: 30 numeric, predictive attributes and the class\n",
            "\n",
            "    :Attribute Information:\n",
            "        - radius (mean of distances from center to points on the perimeter)\n",
            "        - texture (standard deviation of gray-scale values)\n",
            "        - perimeter\n",
            "        - area\n",
            "        - smoothness (local variation in radius lengths)\n",
            "        - compactness (perimeter^2 / area - 1.0)\n",
            "        - concavity (severity of concave portions of the contour)\n",
            "        - concave points (number of concave portions of the contour)\n",
            "        - symmetry \n",
            "        - fractal dimension (\"coastline approximation\" - 1)\n",
            "\n",
            "        The mean, standard error, and \"worst\" or largest (mean of the three\n",
            "        largest values) of these features were computed for each image,\n",
            "        resulting in 30 features.  For instance, field 3 is Mean Radius, field\n",
            "        13 is Radius SE, field 23 is Worst Radius.\n",
            "\n",
            "        - class:\n",
            "                - WDBC-Malignant\n",
            "                - WDBC-Benign\n",
            "\n",
            "    :Summary Statistics:\n",
            "\n",
            "    ===================================== ====== ======\n",
            "                                           Min    Max\n",
            "    ===================================== ====== ======\n",
            "    radius (mean):                        6.981  28.11\n",
            "    texture (mean):                       9.71   39.28\n",
            "    perimeter (mean):                     43.79  188.5\n",
            "    area (mean):                          143.5  2501.0\n",
            "    smoothness (mean):                    0.053  0.163\n",
            "    compactness (mean):                   0.019  0.345\n",
            "    concavity (mean):                     0.0    0.427\n",
            "    concave points (mean):                0.0    0.201\n",
            "    symmetry (mean):                      0.106  0.304\n",
            "    fractal dimension (mean):             0.05   0.097\n",
            "    radius (standard error):              0.112  2.873\n",
            "    texture (standard error):             0.36   4.885\n",
            "    perimeter (standard error):           0.757  21.98\n",
            "    area (standard error):                6.802  542.2\n",
            "    smoothness (standard error):          0.002  0.031\n",
            "    compactness (standard error):         0.002  0.135\n",
            "    concavity (standard error):           0.0    0.396\n",
            "    concave points (standard error):      0.0    0.053\n",
            "    symmetry (standard error):            0.008  0.079\n",
            "    fractal dimension (standard error):   0.001  0.03\n",
            "    radius (worst):                       7.93   36.04\n",
            "    texture (worst):                      12.02  49.54\n",
            "    perimeter (worst):                    50.41  251.2\n",
            "    area (worst):                         185.2  4254.0\n",
            "    smoothness (worst):                   0.071  0.223\n",
            "    compactness (worst):                  0.027  1.058\n",
            "    concavity (worst):                    0.0    1.252\n",
            "    concave points (worst):               0.0    0.291\n",
            "    symmetry (worst):                     0.156  0.664\n",
            "    fractal dimension (worst):            0.055  0.208\n",
            "    ===================================== ====== ======\n",
            "\n",
            "    :Missing Attribute Values: None\n",
            "\n",
            "    :Class Distribution: 212 - Malignant, 357 - Benign\n",
            "\n",
            "    :Creator:  Dr. William H. Wolberg, W. Nick Street, Olvi L. Mangasarian\n",
            "\n",
            "    :Donor: Nick Street\n",
            "\n",
            "    :Date: November, 1995\n",
            "\n",
            "This is a copy of UCI ML Breast Cancer Wisconsin (Diagnostic) datasets.\n",
            "https://goo.gl/U2Uwz2\n",
            "\n",
            "Features are computed from a digitized image of a fine needle\n",
            "aspirate (FNA) of a breast mass.  They describe\n",
            "characteristics of the cell nuclei present in the image.\n",
            "\n",
            "Separating plane described above was obtained using\n",
            "Multisurface Method-Tree (MSM-T) [K. P. Bennett, \"Decision Tree\n",
            "Construction Via Linear Programming.\" Proceedings of the 4th\n",
            "Midwest Artificial Intelligence and Cognitive Science Society,\n",
            "pp. 97-101, 1992], a classification method which uses linear\n",
            "programming to construct a decision tree.  Relevant features\n",
            "were selected using an exhaustive search in the space of 1-4\n",
            "features and 1-3 separating planes.\n",
            "\n",
            "The actual linear program used to obtain the separating plane\n",
            "in the 3-dimensional space is that described in:\n",
            "[K. P. Bennett and O. L. Mangasarian: \"Robust Linear\n",
            "Programming Discrimination of Two Linearly Inseparable Sets\",\n",
            "Optimization Methods and Software 1, 1992, 23-34].\n",
            "\n",
            "This database is also available through the UW CS ftp server:\n",
            "\n",
            "ftp ftp.cs.wisc.edu\n",
            "cd math-prog/cpo-dataset/machine-learn/WDBC/\n",
            "\n",
            ".. topic:: References\n",
            "\n",
            "   - W.N. Street, W.H. Wolberg and O.L. Mangasarian. Nuclear feature extraction \n",
            "     for breast tumor diagnosis. IS&T/SPIE 1993 International Symposium on \n",
            "     Electronic Imaging: Science and Technology, volume 1905, pages 861-870,\n",
            "     San Jose, CA, 1993.\n",
            "   - O.L. Mangasarian, W.N. Street and W.H. Wolberg. Breast cancer diagnosis and \n",
            "     prognosis via linear programming. Operations Research, 43(4), pages 570-577, \n",
            "     July-August 1995.\n",
            "   - W.H. Wolberg, W.N. Street, and O.L. Mangasarian. Machine learning techniques\n",
            "     to diagnose breast cancer from fine-needle aspirates. Cancer Letters 77 (1994) \n",
            "     163-171.\n"
          ],
          "name": "stdout"
        }
      ]
    },
    {
      "cell_type": "code",
      "metadata": {
        "colab": {
          "base_uri": "https://localhost:8080/"
        },
        "id": "1VjRFVAiqsQS",
        "outputId": "cf55eb0f-84fa-413c-fb45-0750d00ff5cc"
      },
      "source": [
        "cancer.keys()"
      ],
      "execution_count": 5,
      "outputs": [
        {
          "output_type": "execute_result",
          "data": {
            "text/plain": [
              "dict_keys(['data', 'target', 'target_names', 'DESCR', 'feature_names', 'filename'])"
            ]
          },
          "metadata": {
            "tags": []
          },
          "execution_count": 5
        }
      ]
    },
    {
      "cell_type": "code",
      "metadata": {
        "colab": {
          "base_uri": "https://localhost:8080/",
          "height": 196
        },
        "id": "juq0oHWMq1Yd",
        "outputId": "be789566-e19f-434b-ce39-19a43ca53283"
      },
      "source": [
        "cancer_df = pd.DataFrame(data = cancer.data, columns=cancer.feature_names)\n",
        "cancer_df.head(3)"
      ],
      "execution_count": 6,
      "outputs": [
        {
          "output_type": "execute_result",
          "data": {
            "text/html": [
              "<div>\n",
              "<style scoped>\n",
              "    .dataframe tbody tr th:only-of-type {\n",
              "        vertical-align: middle;\n",
              "    }\n",
              "\n",
              "    .dataframe tbody tr th {\n",
              "        vertical-align: top;\n",
              "    }\n",
              "\n",
              "    .dataframe thead th {\n",
              "        text-align: right;\n",
              "    }\n",
              "</style>\n",
              "<table border=\"1\" class=\"dataframe\">\n",
              "  <thead>\n",
              "    <tr style=\"text-align: right;\">\n",
              "      <th></th>\n",
              "      <th>mean radius</th>\n",
              "      <th>mean texture</th>\n",
              "      <th>mean perimeter</th>\n",
              "      <th>mean area</th>\n",
              "      <th>mean smoothness</th>\n",
              "      <th>mean compactness</th>\n",
              "      <th>mean concavity</th>\n",
              "      <th>mean concave points</th>\n",
              "      <th>mean symmetry</th>\n",
              "      <th>mean fractal dimension</th>\n",
              "      <th>radius error</th>\n",
              "      <th>texture error</th>\n",
              "      <th>perimeter error</th>\n",
              "      <th>area error</th>\n",
              "      <th>smoothness error</th>\n",
              "      <th>compactness error</th>\n",
              "      <th>concavity error</th>\n",
              "      <th>concave points error</th>\n",
              "      <th>symmetry error</th>\n",
              "      <th>fractal dimension error</th>\n",
              "      <th>worst radius</th>\n",
              "      <th>worst texture</th>\n",
              "      <th>worst perimeter</th>\n",
              "      <th>worst area</th>\n",
              "      <th>worst smoothness</th>\n",
              "      <th>worst compactness</th>\n",
              "      <th>worst concavity</th>\n",
              "      <th>worst concave points</th>\n",
              "      <th>worst symmetry</th>\n",
              "      <th>worst fractal dimension</th>\n",
              "    </tr>\n",
              "  </thead>\n",
              "  <tbody>\n",
              "    <tr>\n",
              "      <th>0</th>\n",
              "      <td>17.99</td>\n",
              "      <td>10.38</td>\n",
              "      <td>122.8</td>\n",
              "      <td>1001.0</td>\n",
              "      <td>0.11840</td>\n",
              "      <td>0.27760</td>\n",
              "      <td>0.3001</td>\n",
              "      <td>0.14710</td>\n",
              "      <td>0.2419</td>\n",
              "      <td>0.07871</td>\n",
              "      <td>1.0950</td>\n",
              "      <td>0.9053</td>\n",
              "      <td>8.589</td>\n",
              "      <td>153.40</td>\n",
              "      <td>0.006399</td>\n",
              "      <td>0.04904</td>\n",
              "      <td>0.05373</td>\n",
              "      <td>0.01587</td>\n",
              "      <td>0.03003</td>\n",
              "      <td>0.006193</td>\n",
              "      <td>25.38</td>\n",
              "      <td>17.33</td>\n",
              "      <td>184.6</td>\n",
              "      <td>2019.0</td>\n",
              "      <td>0.1622</td>\n",
              "      <td>0.6656</td>\n",
              "      <td>0.7119</td>\n",
              "      <td>0.2654</td>\n",
              "      <td>0.4601</td>\n",
              "      <td>0.11890</td>\n",
              "    </tr>\n",
              "    <tr>\n",
              "      <th>1</th>\n",
              "      <td>20.57</td>\n",
              "      <td>17.77</td>\n",
              "      <td>132.9</td>\n",
              "      <td>1326.0</td>\n",
              "      <td>0.08474</td>\n",
              "      <td>0.07864</td>\n",
              "      <td>0.0869</td>\n",
              "      <td>0.07017</td>\n",
              "      <td>0.1812</td>\n",
              "      <td>0.05667</td>\n",
              "      <td>0.5435</td>\n",
              "      <td>0.7339</td>\n",
              "      <td>3.398</td>\n",
              "      <td>74.08</td>\n",
              "      <td>0.005225</td>\n",
              "      <td>0.01308</td>\n",
              "      <td>0.01860</td>\n",
              "      <td>0.01340</td>\n",
              "      <td>0.01389</td>\n",
              "      <td>0.003532</td>\n",
              "      <td>24.99</td>\n",
              "      <td>23.41</td>\n",
              "      <td>158.8</td>\n",
              "      <td>1956.0</td>\n",
              "      <td>0.1238</td>\n",
              "      <td>0.1866</td>\n",
              "      <td>0.2416</td>\n",
              "      <td>0.1860</td>\n",
              "      <td>0.2750</td>\n",
              "      <td>0.08902</td>\n",
              "    </tr>\n",
              "    <tr>\n",
              "      <th>2</th>\n",
              "      <td>19.69</td>\n",
              "      <td>21.25</td>\n",
              "      <td>130.0</td>\n",
              "      <td>1203.0</td>\n",
              "      <td>0.10960</td>\n",
              "      <td>0.15990</td>\n",
              "      <td>0.1974</td>\n",
              "      <td>0.12790</td>\n",
              "      <td>0.2069</td>\n",
              "      <td>0.05999</td>\n",
              "      <td>0.7456</td>\n",
              "      <td>0.7869</td>\n",
              "      <td>4.585</td>\n",
              "      <td>94.03</td>\n",
              "      <td>0.006150</td>\n",
              "      <td>0.04006</td>\n",
              "      <td>0.03832</td>\n",
              "      <td>0.02058</td>\n",
              "      <td>0.02250</td>\n",
              "      <td>0.004571</td>\n",
              "      <td>23.57</td>\n",
              "      <td>25.53</td>\n",
              "      <td>152.5</td>\n",
              "      <td>1709.0</td>\n",
              "      <td>0.1444</td>\n",
              "      <td>0.4245</td>\n",
              "      <td>0.4504</td>\n",
              "      <td>0.2430</td>\n",
              "      <td>0.3613</td>\n",
              "      <td>0.08758</td>\n",
              "    </tr>\n",
              "  </tbody>\n",
              "</table>\n",
              "</div>"
            ],
            "text/plain": [
              "   mean radius  mean texture  ...  worst symmetry  worst fractal dimension\n",
              "0        17.99         10.38  ...          0.4601                  0.11890\n",
              "1        20.57         17.77  ...          0.2750                  0.08902\n",
              "2        19.69         21.25  ...          0.3613                  0.08758\n",
              "\n",
              "[3 rows x 30 columns]"
            ]
          },
          "metadata": {
            "tags": []
          },
          "execution_count": 6
        }
      ]
    },
    {
      "cell_type": "code",
      "metadata": {
        "id": "edXbInTArvV3"
      },
      "source": [
        "cancer_df[\"class\"] = cancer.target"
      ],
      "execution_count": 7,
      "outputs": []
    },
    {
      "cell_type": "code",
      "metadata": {
        "colab": {
          "base_uri": "https://localhost:8080/"
        },
        "id": "Q5wSm20Gr-ce",
        "outputId": "8ae74c5f-5718-4e09-9f33-a4add44f92f7"
      },
      "source": [
        "cancer[\"target_names\"]"
      ],
      "execution_count": 8,
      "outputs": [
        {
          "output_type": "execute_result",
          "data": {
            "text/plain": [
              "array(['malignant', 'benign'], dtype='<U9')"
            ]
          },
          "metadata": {
            "tags": []
          },
          "execution_count": 8
        }
      ]
    },
    {
      "cell_type": "code",
      "metadata": {
        "colab": {
          "base_uri": "https://localhost:8080/"
        },
        "id": "BxuO5afesK9W",
        "outputId": "8aba85cc-42ce-4398-b5d6-6c3c9b804ea4"
      },
      "source": [
        "cancer_df.shape"
      ],
      "execution_count": 9,
      "outputs": [
        {
          "output_type": "execute_result",
          "data": {
            "text/plain": [
              "(569, 31)"
            ]
          },
          "metadata": {
            "tags": []
          },
          "execution_count": 9
        }
      ]
    },
    {
      "cell_type": "code",
      "metadata": {
        "colab": {
          "base_uri": "https://localhost:8080/",
          "height": 258
        },
        "id": "9dRZuQj-sO24",
        "outputId": "55c89d8d-02da-4121-f6ec-873d18a4faf8"
      },
      "source": [
        "cancer_df.sample(5)"
      ],
      "execution_count": 10,
      "outputs": [
        {
          "output_type": "execute_result",
          "data": {
            "text/html": [
              "<div>\n",
              "<style scoped>\n",
              "    .dataframe tbody tr th:only-of-type {\n",
              "        vertical-align: middle;\n",
              "    }\n",
              "\n",
              "    .dataframe tbody tr th {\n",
              "        vertical-align: top;\n",
              "    }\n",
              "\n",
              "    .dataframe thead th {\n",
              "        text-align: right;\n",
              "    }\n",
              "</style>\n",
              "<table border=\"1\" class=\"dataframe\">\n",
              "  <thead>\n",
              "    <tr style=\"text-align: right;\">\n",
              "      <th></th>\n",
              "      <th>mean radius</th>\n",
              "      <th>mean texture</th>\n",
              "      <th>mean perimeter</th>\n",
              "      <th>mean area</th>\n",
              "      <th>mean smoothness</th>\n",
              "      <th>mean compactness</th>\n",
              "      <th>mean concavity</th>\n",
              "      <th>mean concave points</th>\n",
              "      <th>mean symmetry</th>\n",
              "      <th>mean fractal dimension</th>\n",
              "      <th>radius error</th>\n",
              "      <th>texture error</th>\n",
              "      <th>perimeter error</th>\n",
              "      <th>area error</th>\n",
              "      <th>smoothness error</th>\n",
              "      <th>compactness error</th>\n",
              "      <th>concavity error</th>\n",
              "      <th>concave points error</th>\n",
              "      <th>symmetry error</th>\n",
              "      <th>fractal dimension error</th>\n",
              "      <th>worst radius</th>\n",
              "      <th>worst texture</th>\n",
              "      <th>worst perimeter</th>\n",
              "      <th>worst area</th>\n",
              "      <th>worst smoothness</th>\n",
              "      <th>worst compactness</th>\n",
              "      <th>worst concavity</th>\n",
              "      <th>worst concave points</th>\n",
              "      <th>worst symmetry</th>\n",
              "      <th>worst fractal dimension</th>\n",
              "      <th>class</th>\n",
              "    </tr>\n",
              "  </thead>\n",
              "  <tbody>\n",
              "    <tr>\n",
              "      <th>221</th>\n",
              "      <td>13.560</td>\n",
              "      <td>13.90</td>\n",
              "      <td>88.59</td>\n",
              "      <td>561.3</td>\n",
              "      <td>0.1051</td>\n",
              "      <td>0.11920</td>\n",
              "      <td>0.07860</td>\n",
              "      <td>0.04451</td>\n",
              "      <td>0.1962</td>\n",
              "      <td>0.06303</td>\n",
              "      <td>0.2569</td>\n",
              "      <td>0.4981</td>\n",
              "      <td>2.011</td>\n",
              "      <td>21.03</td>\n",
              "      <td>0.005851</td>\n",
              "      <td>0.02314</td>\n",
              "      <td>0.02544</td>\n",
              "      <td>0.00836</td>\n",
              "      <td>0.01842</td>\n",
              "      <td>0.002918</td>\n",
              "      <td>14.98</td>\n",
              "      <td>17.13</td>\n",
              "      <td>101.10</td>\n",
              "      <td>686.6</td>\n",
              "      <td>0.1376</td>\n",
              "      <td>0.2698</td>\n",
              "      <td>0.25770</td>\n",
              "      <td>0.09090</td>\n",
              "      <td>0.3065</td>\n",
              "      <td>0.08177</td>\n",
              "      <td>1</td>\n",
              "    </tr>\n",
              "    <tr>\n",
              "      <th>139</th>\n",
              "      <td>11.280</td>\n",
              "      <td>13.39</td>\n",
              "      <td>73.00</td>\n",
              "      <td>384.8</td>\n",
              "      <td>0.1164</td>\n",
              "      <td>0.11360</td>\n",
              "      <td>0.04635</td>\n",
              "      <td>0.04796</td>\n",
              "      <td>0.1771</td>\n",
              "      <td>0.06072</td>\n",
              "      <td>0.3384</td>\n",
              "      <td>1.3430</td>\n",
              "      <td>1.851</td>\n",
              "      <td>26.33</td>\n",
              "      <td>0.011270</td>\n",
              "      <td>0.03498</td>\n",
              "      <td>0.02187</td>\n",
              "      <td>0.01965</td>\n",
              "      <td>0.01580</td>\n",
              "      <td>0.003442</td>\n",
              "      <td>11.92</td>\n",
              "      <td>15.77</td>\n",
              "      <td>76.53</td>\n",
              "      <td>434.0</td>\n",
              "      <td>0.1367</td>\n",
              "      <td>0.1822</td>\n",
              "      <td>0.08669</td>\n",
              "      <td>0.08611</td>\n",
              "      <td>0.2102</td>\n",
              "      <td>0.06784</td>\n",
              "      <td>1</td>\n",
              "    </tr>\n",
              "    <tr>\n",
              "      <th>408</th>\n",
              "      <td>17.990</td>\n",
              "      <td>20.66</td>\n",
              "      <td>117.80</td>\n",
              "      <td>991.7</td>\n",
              "      <td>0.1036</td>\n",
              "      <td>0.13040</td>\n",
              "      <td>0.12010</td>\n",
              "      <td>0.08824</td>\n",
              "      <td>0.1992</td>\n",
              "      <td>0.06069</td>\n",
              "      <td>0.4537</td>\n",
              "      <td>0.8733</td>\n",
              "      <td>3.061</td>\n",
              "      <td>49.81</td>\n",
              "      <td>0.007231</td>\n",
              "      <td>0.02772</td>\n",
              "      <td>0.02509</td>\n",
              "      <td>0.01480</td>\n",
              "      <td>0.01414</td>\n",
              "      <td>0.003336</td>\n",
              "      <td>21.08</td>\n",
              "      <td>25.41</td>\n",
              "      <td>138.10</td>\n",
              "      <td>1349.0</td>\n",
              "      <td>0.1482</td>\n",
              "      <td>0.3735</td>\n",
              "      <td>0.33010</td>\n",
              "      <td>0.19740</td>\n",
              "      <td>0.3060</td>\n",
              "      <td>0.08503</td>\n",
              "      <td>0</td>\n",
              "    </tr>\n",
              "    <tr>\n",
              "      <th>110</th>\n",
              "      <td>9.777</td>\n",
              "      <td>16.99</td>\n",
              "      <td>62.50</td>\n",
              "      <td>290.2</td>\n",
              "      <td>0.1037</td>\n",
              "      <td>0.08404</td>\n",
              "      <td>0.04334</td>\n",
              "      <td>0.01778</td>\n",
              "      <td>0.1584</td>\n",
              "      <td>0.07065</td>\n",
              "      <td>0.4030</td>\n",
              "      <td>1.4240</td>\n",
              "      <td>2.747</td>\n",
              "      <td>22.87</td>\n",
              "      <td>0.013850</td>\n",
              "      <td>0.02932</td>\n",
              "      <td>0.02722</td>\n",
              "      <td>0.01023</td>\n",
              "      <td>0.03281</td>\n",
              "      <td>0.004638</td>\n",
              "      <td>11.05</td>\n",
              "      <td>21.47</td>\n",
              "      <td>71.68</td>\n",
              "      <td>367.0</td>\n",
              "      <td>0.1467</td>\n",
              "      <td>0.1765</td>\n",
              "      <td>0.13000</td>\n",
              "      <td>0.05334</td>\n",
              "      <td>0.2533</td>\n",
              "      <td>0.08468</td>\n",
              "      <td>1</td>\n",
              "    </tr>\n",
              "    <tr>\n",
              "      <th>496</th>\n",
              "      <td>12.650</td>\n",
              "      <td>18.17</td>\n",
              "      <td>82.69</td>\n",
              "      <td>485.6</td>\n",
              "      <td>0.1076</td>\n",
              "      <td>0.13340</td>\n",
              "      <td>0.08017</td>\n",
              "      <td>0.05074</td>\n",
              "      <td>0.1641</td>\n",
              "      <td>0.06854</td>\n",
              "      <td>0.2324</td>\n",
              "      <td>0.6332</td>\n",
              "      <td>1.696</td>\n",
              "      <td>18.40</td>\n",
              "      <td>0.005704</td>\n",
              "      <td>0.02502</td>\n",
              "      <td>0.02636</td>\n",
              "      <td>0.01032</td>\n",
              "      <td>0.01759</td>\n",
              "      <td>0.003563</td>\n",
              "      <td>14.38</td>\n",
              "      <td>22.15</td>\n",
              "      <td>95.29</td>\n",
              "      <td>633.7</td>\n",
              "      <td>0.1533</td>\n",
              "      <td>0.3842</td>\n",
              "      <td>0.35820</td>\n",
              "      <td>0.14070</td>\n",
              "      <td>0.3230</td>\n",
              "      <td>0.10330</td>\n",
              "      <td>1</td>\n",
              "    </tr>\n",
              "  </tbody>\n",
              "</table>\n",
              "</div>"
            ],
            "text/plain": [
              "     mean radius  mean texture  ...  worst fractal dimension  class\n",
              "221       13.560         13.90  ...                  0.08177      1\n",
              "139       11.280         13.39  ...                  0.06784      1\n",
              "408       17.990         20.66  ...                  0.08503      0\n",
              "110        9.777         16.99  ...                  0.08468      1\n",
              "496       12.650         18.17  ...                  0.10330      1\n",
              "\n",
              "[5 rows x 31 columns]"
            ]
          },
          "metadata": {
            "tags": []
          },
          "execution_count": 10
        }
      ]
    },
    {
      "cell_type": "code",
      "metadata": {
        "colab": {
          "base_uri": "https://localhost:8080/",
          "height": 497
        },
        "id": "-nJP-IgGse5A",
        "outputId": "f532e0f3-f619-4d2e-cfd0-07f54390568c"
      },
      "source": [
        "fig, ax = plt.subplots(figsize=(12, 8))\n",
        "\n",
        "plt.scatter(cancer_df[\"radius error\"], cancer_df[\"mean radius\"])\n",
        "\n",
        "plt.xlabel(\"radius error\")\n",
        "plt.ylabel(\"mean radius\")\n",
        "\n",
        "plt.show()"
      ],
      "execution_count": 11,
      "outputs": [
        {
          "output_type": "display_data",
          "data": {
            "image/png": "[encoded data removed]",
            "text/plain": [
              "<Figure size 864x576 with 1 Axes>"
            ]
          },
          "metadata": {
            "tags": [],
            "needs_background": "light"
          }
        }
      ]
    },
    {
      "cell_type": "code",
      "metadata": {
        "colab": {
          "base_uri": "https://localhost:8080/",
          "height": 497
        },
        "id": "zQ4cmL4os6Wm",
        "outputId": "442a36ef-b888-4977-8f94-d61e3820def0"
      },
      "source": [
        "fig, ax = plt.subplots(figsize=(12, 8))\n",
        "\n",
        "plt.scatter(cancer_df[\"mean fractal dimension\"], cancer_df[\"worst fractal dimension\"])\n",
        "\n",
        "plt.xlabel(\"mean fractal dimension\")\n",
        "plt.ylabel(\"worst fractal dimension\")\n",
        "\n",
        "plt.show()"
      ],
      "execution_count": 12,
      "outputs": [
        {
          "output_type": "display_data",
          "data": {
            "image/png": "[encoded data removed]",
            "text/plain": [
              "<Figure size 864x576 with 1 Axes>"
            ]
          },
          "metadata": {
            "tags": [],
            "needs_background": "light"
          }
        }
      ]
    },
    {
      "cell_type": "code",
      "metadata": {
        "id": "Tzz9uIejtJgY"
      },
      "source": [
        "cancer_df_subset = cancer_df[\n",
        "                             [\n",
        "                              'mean radius', \n",
        "                              'mean texture', \n",
        "                              'mean perimeter', \n",
        "                              'mean area',\n",
        "                              'radius error', \n",
        "                              'texture error',\n",
        "                              'worst perimeter', \n",
        "                              'worst area',\n",
        "                              'class'\n",
        "                             ]\n",
        "]"
      ],
      "execution_count": 13,
      "outputs": []
    },
    {
      "cell_type": "code",
      "metadata": {
        "colab": {
          "base_uri": "https://localhost:8080/",
          "height": 328
        },
        "id": "7ZCDo0EktSc9",
        "outputId": "607e046d-33f3-4793-a8fd-0065c0065098"
      },
      "source": [
        "cancer_corr = cancer_df_subset.corr()\n",
        "\n",
        "cancer_corr"
      ],
      "execution_count": 14,
      "outputs": [
        {
          "output_type": "execute_result",
          "data": {
            "text/html": [
              "<div>\n",
              "<style scoped>\n",
              "    .dataframe tbody tr th:only-of-type {\n",
              "        vertical-align: middle;\n",
              "    }\n",
              "\n",
              "    .dataframe tbody tr th {\n",
              "        vertical-align: top;\n",
              "    }\n",
              "\n",
              "    .dataframe thead th {\n",
              "        text-align: right;\n",
              "    }\n",
              "</style>\n",
              "<table border=\"1\" class=\"dataframe\">\n",
              "  <thead>\n",
              "    <tr style=\"text-align: right;\">\n",
              "      <th></th>\n",
              "      <th>mean radius</th>\n",
              "      <th>mean texture</th>\n",
              "      <th>mean perimeter</th>\n",
              "      <th>mean area</th>\n",
              "      <th>radius error</th>\n",
              "      <th>texture error</th>\n",
              "      <th>worst perimeter</th>\n",
              "      <th>worst area</th>\n",
              "      <th>class</th>\n",
              "    </tr>\n",
              "  </thead>\n",
              "  <tbody>\n",
              "    <tr>\n",
              "      <th>mean radius</th>\n",
              "      <td>1.000000</td>\n",
              "      <td>0.323782</td>\n",
              "      <td>0.997855</td>\n",
              "      <td>0.987357</td>\n",
              "      <td>0.679090</td>\n",
              "      <td>-0.097317</td>\n",
              "      <td>0.965137</td>\n",
              "      <td>0.941082</td>\n",
              "      <td>-0.730029</td>\n",
              "    </tr>\n",
              "    <tr>\n",
              "      <th>mean texture</th>\n",
              "      <td>0.323782</td>\n",
              "      <td>1.000000</td>\n",
              "      <td>0.329533</td>\n",
              "      <td>0.321086</td>\n",
              "      <td>0.275869</td>\n",
              "      <td>0.386358</td>\n",
              "      <td>0.358040</td>\n",
              "      <td>0.343546</td>\n",
              "      <td>-0.415185</td>\n",
              "    </tr>\n",
              "    <tr>\n",
              "      <th>mean perimeter</th>\n",
              "      <td>0.997855</td>\n",
              "      <td>0.329533</td>\n",
              "      <td>1.000000</td>\n",
              "      <td>0.986507</td>\n",
              "      <td>0.691765</td>\n",
              "      <td>-0.086761</td>\n",
              "      <td>0.970387</td>\n",
              "      <td>0.941550</td>\n",
              "      <td>-0.742636</td>\n",
              "    </tr>\n",
              "    <tr>\n",
              "      <th>mean area</th>\n",
              "      <td>0.987357</td>\n",
              "      <td>0.321086</td>\n",
              "      <td>0.986507</td>\n",
              "      <td>1.000000</td>\n",
              "      <td>0.732562</td>\n",
              "      <td>-0.066280</td>\n",
              "      <td>0.959120</td>\n",
              "      <td>0.959213</td>\n",
              "      <td>-0.708984</td>\n",
              "    </tr>\n",
              "    <tr>\n",
              "      <th>radius error</th>\n",
              "      <td>0.679090</td>\n",
              "      <td>0.275869</td>\n",
              "      <td>0.691765</td>\n",
              "      <td>0.732562</td>\n",
              "      <td>1.000000</td>\n",
              "      <td>0.213247</td>\n",
              "      <td>0.719684</td>\n",
              "      <td>0.751548</td>\n",
              "      <td>-0.567134</td>\n",
              "    </tr>\n",
              "    <tr>\n",
              "      <th>texture error</th>\n",
              "      <td>-0.097317</td>\n",
              "      <td>0.386358</td>\n",
              "      <td>-0.086761</td>\n",
              "      <td>-0.066280</td>\n",
              "      <td>0.213247</td>\n",
              "      <td>1.000000</td>\n",
              "      <td>-0.102242</td>\n",
              "      <td>-0.083195</td>\n",
              "      <td>0.008303</td>\n",
              "    </tr>\n",
              "    <tr>\n",
              "      <th>worst perimeter</th>\n",
              "      <td>0.965137</td>\n",
              "      <td>0.358040</td>\n",
              "      <td>0.970387</td>\n",
              "      <td>0.959120</td>\n",
              "      <td>0.719684</td>\n",
              "      <td>-0.102242</td>\n",
              "      <td>1.000000</td>\n",
              "      <td>0.977578</td>\n",
              "      <td>-0.782914</td>\n",
              "    </tr>\n",
              "    <tr>\n",
              "      <th>worst area</th>\n",
              "      <td>0.941082</td>\n",
              "      <td>0.343546</td>\n",
              "      <td>0.941550</td>\n",
              "      <td>0.959213</td>\n",
              "      <td>0.751548</td>\n",
              "      <td>-0.083195</td>\n",
              "      <td>0.977578</td>\n",
              "      <td>1.000000</td>\n",
              "      <td>-0.733825</td>\n",
              "    </tr>\n",
              "    <tr>\n",
              "      <th>class</th>\n",
              "      <td>-0.730029</td>\n",
              "      <td>-0.415185</td>\n",
              "      <td>-0.742636</td>\n",
              "      <td>-0.708984</td>\n",
              "      <td>-0.567134</td>\n",
              "      <td>0.008303</td>\n",
              "      <td>-0.782914</td>\n",
              "      <td>-0.733825</td>\n",
              "      <td>1.000000</td>\n",
              "    </tr>\n",
              "  </tbody>\n",
              "</table>\n",
              "</div>"
            ],
            "text/plain": [
              "                 mean radius  mean texture  ...  worst area     class\n",
              "mean radius         1.000000      0.323782  ...    0.941082 -0.730029\n",
              "mean texture        0.323782      1.000000  ...    0.343546 -0.415185\n",
              "mean perimeter      0.997855      0.329533  ...    0.941550 -0.742636\n",
              "mean area           0.987357      0.321086  ...    0.959213 -0.708984\n",
              "radius error        0.679090      0.275869  ...    0.751548 -0.567134\n",
              "texture error      -0.097317      0.386358  ...   -0.083195  0.008303\n",
              "worst perimeter     0.965137      0.358040  ...    0.977578 -0.782914\n",
              "worst area          0.941082      0.343546  ...    1.000000 -0.733825\n",
              "class              -0.730029     -0.415185  ...   -0.733825  1.000000\n",
              "\n",
              "[9 rows x 9 columns]"
            ]
          },
          "metadata": {
            "tags": []
          },
          "execution_count": 14
        }
      ]
    },
    {
      "cell_type": "code",
      "metadata": {
        "colab": {
          "base_uri": "https://localhost:8080/",
          "height": 596
        },
        "id": "yX67E7Vftd32",
        "outputId": "f9c2b90d-b03b-4951-c540-1adb50aad951"
      },
      "source": [
        "fig, ax = plt.subplots(figsize=(20,10))\n",
        "\n",
        "sns.heatmap(cancer_corr, annot=True)\n",
        "\n",
        "plt.show()"
      ],
      "execution_count": 15,
      "outputs": [
        {
          "output_type": "display_data",
          "data": {
            "image/png": "[encoded data removed]",
            "text/plain": [
              "<Figure size 1440x720 with 2 Axes>"
            ]
          },
          "metadata": {
            "tags": [],
            "needs_background": "light"
          }
        }
      ]
    },
    {
      "cell_type": "markdown",
      "metadata": {
        "id": "uzstWXAcYkk6"
      },
      "source": [
        "## Performing Classification with all Features"
      ]
    },
    {
      "cell_type": "code",
      "metadata": {
        "id": "r44AVCt2uOz4"
      },
      "source": [
        "from sklearn.model_selection import train_test_split"
      ],
      "execution_count": 16,
      "outputs": []
    },
    {
      "cell_type": "code",
      "metadata": {
        "id": "JLQaSOgZYtTT"
      },
      "source": [
        "X = cancer_df.drop('class', axis=1)\n",
        "y = cancer_df['class']\n",
        "\n",
        "X_train, X_test, y_train, y_test = train_test_split(X, y, test_size=0.2)"
      ],
      "execution_count": 17,
      "outputs": []
    },
    {
      "cell_type": "code",
      "metadata": {
        "colab": {
          "base_uri": "https://localhost:8080/"
        },
        "id": "8GtGGYIzZCMW",
        "outputId": "0e933e81-d3b6-4c81-fc8a-2444498bd4cd"
      },
      "source": [
        "print(\"Train X shape: {}\".format(X_train.shape))\n",
        "print(\"Train y shape: {}\".format(y_train.shape))\n",
        "\n",
        "print(\"Test X shape: {}\".format(X_test.shape))\n",
        "print(\"Test y shape: {}\".format(y_test.shape))"
      ],
      "execution_count": 24,
      "outputs": [
        {
          "output_type": "stream",
          "text": [
            "Train X shape: (455, 30)\n",
            "Train y shape: (455,)\n",
            "Test X shape: (114, 30)\n",
            "Test y shape: (114,)\n"
          ],
          "name": "stdout"
        }
      ]
    },
    {
      "cell_type": "code",
      "metadata": {
        "id": "r-4Q67PAZOZO"
      },
      "source": [
        "from sklearn.linear_model import LogisticRegression\n",
        "from sklearn.metrics import confusion_matrix"
      ],
      "execution_count": 49,
      "outputs": []
    },
    {
      "cell_type": "code",
      "metadata": {
        "id": "S6EDrXP2aE1I"
      },
      "source": [
        "classifier = LogisticRegression(solver='liblinear')"
      ],
      "execution_count": 26,
      "outputs": []
    },
    {
      "cell_type": "code",
      "metadata": {
        "colab": {
          "base_uri": "https://localhost:8080/"
        },
        "id": "iHLpdRG7aMc-",
        "outputId": "7e1c5eae-f839-45c7-96bb-3d517a8d40a1"
      },
      "source": [
        "classifier.fit(X_train, y_train)"
      ],
      "execution_count": 27,
      "outputs": [
        {
          "output_type": "execute_result",
          "data": {
            "text/plain": [
              "LogisticRegression(C=1.0, class_weight=None, dual=False, fit_intercept=True,\n",
              "                   intercept_scaling=1, l1_ratio=None, max_iter=100,\n",
              "                   multi_class='auto', n_jobs=None, penalty='l2',\n",
              "                   random_state=None, solver='liblinear', tol=0.0001, verbose=0,\n",
              "                   warm_start=False)"
            ]
          },
          "metadata": {
            "tags": []
          },
          "execution_count": 27
        }
      ]
    },
    {
      "cell_type": "code",
      "metadata": {
        "id": "LhHUCJT2aTIR"
      },
      "source": [
        "y_pred = classifier.predict(X_test)"
      ],
      "execution_count": 28,
      "outputs": []
    },
    {
      "cell_type": "code",
      "metadata": {
        "id": "r8DpBW8JaZJH"
      },
      "source": [
        "pred_results = pd.DataFrame(\n",
        "    {\n",
        "        'y_test': y_test,\n",
        "        'y_pred': y_pred     \n",
        "    }\n",
        ")"
      ],
      "execution_count": 29,
      "outputs": []
    },
    {
      "cell_type": "code",
      "metadata": {
        "colab": {
          "base_uri": "https://localhost:8080/",
          "height": 204
        },
        "id": "n4Om0JyUazlP",
        "outputId": "54fd0b50-e11e-4005-9933-93506be2b446"
      },
      "source": [
        "pred_results.head()"
      ],
      "execution_count": 30,
      "outputs": [
        {
          "output_type": "execute_result",
          "data": {
            "text/html": [
              "<div>\n",
              "<style scoped>\n",
              "    .dataframe tbody tr th:only-of-type {\n",
              "        vertical-align: middle;\n",
              "    }\n",
              "\n",
              "    .dataframe tbody tr th {\n",
              "        vertical-align: top;\n",
              "    }\n",
              "\n",
              "    .dataframe thead th {\n",
              "        text-align: right;\n",
              "    }\n",
              "</style>\n",
              "<table border=\"1\" class=\"dataframe\">\n",
              "  <thead>\n",
              "    <tr style=\"text-align: right;\">\n",
              "      <th></th>\n",
              "      <th>y_test</th>\n",
              "      <th>y_pred</th>\n",
              "    </tr>\n",
              "  </thead>\n",
              "  <tbody>\n",
              "    <tr>\n",
              "      <th>254</th>\n",
              "      <td>0</td>\n",
              "      <td>0</td>\n",
              "    </tr>\n",
              "    <tr>\n",
              "      <th>498</th>\n",
              "      <td>0</td>\n",
              "      <td>0</td>\n",
              "    </tr>\n",
              "    <tr>\n",
              "      <th>510</th>\n",
              "      <td>1</td>\n",
              "      <td>1</td>\n",
              "    </tr>\n",
              "    <tr>\n",
              "      <th>509</th>\n",
              "      <td>0</td>\n",
              "      <td>0</td>\n",
              "    </tr>\n",
              "    <tr>\n",
              "      <th>419</th>\n",
              "      <td>1</td>\n",
              "      <td>1</td>\n",
              "    </tr>\n",
              "  </tbody>\n",
              "</table>\n",
              "</div>"
            ],
            "text/plain": [
              "     y_test  y_pred\n",
              "254       0       0\n",
              "498       0       0\n",
              "510       1       1\n",
              "509       0       0\n",
              "419       1       1"
            ]
          },
          "metadata": {
            "tags": []
          },
          "execution_count": 30
        }
      ]
    },
    {
      "cell_type": "markdown",
      "metadata": {
        "id": "jPgh2VqHmXiI"
      },
      "source": [
        "<center>\n",
        "<img src=\"https://raw.githubusercontent.com/xpython21/Colab/main/Images/confusion_matrix.png?v23-05-2021\">\n",
        "</center>"
      ]
    },
    {
      "cell_type": "markdown",
      "metadata": {
        "id": "swaKLJUo315S"
      },
      "source": [
        "![](https://raw.githubusercontent.com/xpython21/Colab/main/Images/confusion_matrix.png)\n"
      ]
    },
    {
      "cell_type": "code",
      "metadata": {
        "colab": {
          "base_uri": "https://localhost:8080/",
          "height": 142
        },
        "id": "1UNMu143a19_",
        "outputId": "7def6118-3858-49a7-9b73-6a0ea4095716"
      },
      "source": [
        "cancer_crosstab = pd.crosstab(pred_results.y_test, pred_results.y_pred)\n",
        "cancer_crosstab"
      ],
      "execution_count": 51,
      "outputs": [
        {
          "output_type": "execute_result",
          "data": {
            "text/html": [
              "<div>\n",
              "<style scoped>\n",
              "    .dataframe tbody tr th:only-of-type {\n",
              "        vertical-align: middle;\n",
              "    }\n",
              "\n",
              "    .dataframe tbody tr th {\n",
              "        vertical-align: top;\n",
              "    }\n",
              "\n",
              "    .dataframe thead th {\n",
              "        text-align: right;\n",
              "    }\n",
              "</style>\n",
              "<table border=\"1\" class=\"dataframe\">\n",
              "  <thead>\n",
              "    <tr style=\"text-align: right;\">\n",
              "      <th>y_pred</th>\n",
              "      <th>0</th>\n",
              "      <th>1</th>\n",
              "    </tr>\n",
              "    <tr>\n",
              "      <th>y_test</th>\n",
              "      <th></th>\n",
              "      <th></th>\n",
              "    </tr>\n",
              "  </thead>\n",
              "  <tbody>\n",
              "    <tr>\n",
              "      <th>0</th>\n",
              "      <td>45</td>\n",
              "      <td>2</td>\n",
              "    </tr>\n",
              "    <tr>\n",
              "      <th>1</th>\n",
              "      <td>1</td>\n",
              "      <td>66</td>\n",
              "    </tr>\n",
              "  </tbody>\n",
              "</table>\n",
              "</div>"
            ],
            "text/plain": [
              "y_pred   0   1\n",
              "y_test        \n",
              "0       45   2\n",
              "1        1  66"
            ]
          },
          "metadata": {
            "tags": []
          },
          "execution_count": 51
        }
      ]
    },
    {
      "cell_type": "code",
      "metadata": {
        "colab": {
          "base_uri": "https://localhost:8080/"
        },
        "id": "C9VMQYurkU80",
        "outputId": "dabc9c04-1b2b-4614-916d-259fd6f6f6c4"
      },
      "source": [
        "confusion_matrix(y_test, y_pred)"
      ],
      "execution_count": 50,
      "outputs": [
        {
          "output_type": "execute_result",
          "data": {
            "text/plain": [
              "array([[45,  2],\n",
              "       [ 1, 66]])"
            ]
          },
          "metadata": {
            "tags": []
          },
          "execution_count": 50
        }
      ]
    },
    {
      "cell_type": "code",
      "metadata": {
        "id": "z-7vuwp7bCpn"
      },
      "source": [
        "from sklearn.metrics import accuracy_score\n",
        "from sklearn.metrics import precision_score\n",
        "from sklearn.metrics import recall_score"
      ],
      "execution_count": 36,
      "outputs": []
    },
    {
      "cell_type": "code",
      "metadata": {
        "colab": {
          "base_uri": "https://localhost:8080/"
        },
        "id": "Q37ACq0acFMh",
        "outputId": "e531d9e7-df02-444e-e2d0-d77a8f626f85"
      },
      "source": [
        "acc = accuracy_score(y_test, y_pred)\n",
        "prec = precision_score(y_test, y_pred)\n",
        "recall = recall_score(y_test, y_pred)\n",
        "\n",
        "# this score is the ratio of correctly predicted observations to the total number of observations\n",
        "# Accuracy = (TP+TN)/(TP+FP+FN+TN)\n",
        "print(\"accuracy_score: \", acc)\n",
        "# this score tells us that when the model predicted that a tumor was malignant, it was right 97% of the time\n",
        "#Precision = TP/TP+FP\n",
        "print(\"precision score: \", prec)\n",
        "# this score tells us that of all the malignant instances in our dataset, our module was able to correctly identify 98.5% of them\n",
        "# Recall = TP/(TP+FN)\n",
        "print(\"recall score: \", recall)"
      ],
      "execution_count": 44,
      "outputs": [
        {
          "output_type": "stream",
          "text": [
            "accuracy_score:  0.9736842105263158\n",
            "precision score:  0.9705882352941176\n",
            "recall score:  0.9850746268656716\n"
          ],
          "name": "stdout"
        }
      ]
    },
    {
      "cell_type": "markdown",
      "metadata": {
        "id": "Zoqeo0pRpWzN"
      },
      "source": [
        "## Exploring the Regression Dataset"
      ]
    },
    {
      "cell_type": "code",
      "metadata": {
        "id": "Ydag8DLBrcPU"
      },
      "source": [
        "import datetime"
      ],
      "execution_count": 67,
      "outputs": []
    },
    {
      "cell_type": "code",
      "metadata": {
        "id": "SwaOr9ZllcX7"
      },
      "source": [
        "housesale_df = pd.read_csv(\"https://raw.githubusercontent.com/xpython21/Colab/main/Data/ReDim/kc_house_data.csv\")"
      ],
      "execution_count": 58,
      "outputs": []
    },
    {
      "cell_type": "code",
      "metadata": {
        "colab": {
          "base_uri": "https://localhost:8080/"
        },
        "id": "RY9kNzK7pTyl",
        "outputId": "1bf68f92-a5b5-48c8-8ec9-d9b6384ac784"
      },
      "source": [
        "housesale_df.shape"
      ],
      "execution_count": 56,
      "outputs": [
        {
          "output_type": "execute_result",
          "data": {
            "text/plain": [
              "(21597, 21)"
            ]
          },
          "metadata": {
            "tags": []
          },
          "execution_count": 56
        }
      ]
    },
    {
      "cell_type": "code",
      "metadata": {
        "colab": {
          "base_uri": "https://localhost:8080/"
        },
        "id": "v6tEWA5yp1sE",
        "outputId": "f2ffc604-3b90-43b2-cc2b-d4aa7020bff7"
      },
      "source": [
        "housesale_df.columns"
      ],
      "execution_count": 57,
      "outputs": [
        {
          "output_type": "execute_result",
          "data": {
            "text/plain": [
              "Index(['id', 'date', 'price', 'bedrooms', 'bathrooms', 'sqft_living',\n",
              "       'sqft_lot', 'floors', 'waterfront', 'view', 'condition', 'grade',\n",
              "       'sqft_above', 'sqft_basement', 'yr_built', 'yr_renovated', 'zipcode',\n",
              "       'lat', 'long', 'sqft_living15', 'sqft_lot15'],\n",
              "      dtype='object')"
            ]
          },
          "metadata": {
            "tags": []
          },
          "execution_count": 57
        }
      ]
    },
    {
      "cell_type": "code",
      "metadata": {
        "colab": {
          "base_uri": "https://localhost:8080/",
          "height": 162
        },
        "id": "Vh6L7mTlp6bM",
        "outputId": "5c1fa4bf-68f3-48bf-9ae7-9fe5014cf73b"
      },
      "source": [
        "housesale_df.head(3)"
      ],
      "execution_count": 60,
      "outputs": [
        {
          "output_type": "execute_result",
          "data": {
            "text/html": [
              "<div>\n",
              "<style scoped>\n",
              "    .dataframe tbody tr th:only-of-type {\n",
              "        vertical-align: middle;\n",
              "    }\n",
              "\n",
              "    .dataframe tbody tr th {\n",
              "        vertical-align: top;\n",
              "    }\n",
              "\n",
              "    .dataframe thead th {\n",
              "        text-align: right;\n",
              "    }\n",
              "</style>\n",
              "<table border=\"1\" class=\"dataframe\">\n",
              "  <thead>\n",
              "    <tr style=\"text-align: right;\">\n",
              "      <th></th>\n",
              "      <th>id</th>\n",
              "      <th>date</th>\n",
              "      <th>price</th>\n",
              "      <th>bedrooms</th>\n",
              "      <th>bathrooms</th>\n",
              "      <th>sqft_living</th>\n",
              "      <th>sqft_lot</th>\n",
              "      <th>floors</th>\n",
              "      <th>waterfront</th>\n",
              "      <th>view</th>\n",
              "      <th>condition</th>\n",
              "      <th>grade</th>\n",
              "      <th>sqft_above</th>\n",
              "      <th>sqft_basement</th>\n",
              "      <th>yr_built</th>\n",
              "      <th>yr_renovated</th>\n",
              "      <th>zipcode</th>\n",
              "      <th>lat</th>\n",
              "      <th>long</th>\n",
              "      <th>sqft_living15</th>\n",
              "      <th>sqft_lot15</th>\n",
              "    </tr>\n",
              "  </thead>\n",
              "  <tbody>\n",
              "    <tr>\n",
              "      <th>0</th>\n",
              "      <td>7129300520</td>\n",
              "      <td>10/13/2014</td>\n",
              "      <td>221900.0</td>\n",
              "      <td>3</td>\n",
              "      <td>1.00</td>\n",
              "      <td>1180</td>\n",
              "      <td>5650</td>\n",
              "      <td>1.0</td>\n",
              "      <td>0</td>\n",
              "      <td>0</td>\n",
              "      <td>3</td>\n",
              "      <td>7</td>\n",
              "      <td>1180</td>\n",
              "      <td>0</td>\n",
              "      <td>1955</td>\n",
              "      <td>0</td>\n",
              "      <td>98178</td>\n",
              "      <td>47.5112</td>\n",
              "      <td>-122.257</td>\n",
              "      <td>1340</td>\n",
              "      <td>5650</td>\n",
              "    </tr>\n",
              "    <tr>\n",
              "      <th>1</th>\n",
              "      <td>6414100192</td>\n",
              "      <td>12/9/2014</td>\n",
              "      <td>538000.0</td>\n",
              "      <td>3</td>\n",
              "      <td>2.25</td>\n",
              "      <td>2570</td>\n",
              "      <td>7242</td>\n",
              "      <td>2.0</td>\n",
              "      <td>0</td>\n",
              "      <td>0</td>\n",
              "      <td>3</td>\n",
              "      <td>7</td>\n",
              "      <td>2170</td>\n",
              "      <td>400</td>\n",
              "      <td>1951</td>\n",
              "      <td>1991</td>\n",
              "      <td>98125</td>\n",
              "      <td>47.7210</td>\n",
              "      <td>-122.319</td>\n",
              "      <td>1690</td>\n",
              "      <td>7639</td>\n",
              "    </tr>\n",
              "    <tr>\n",
              "      <th>2</th>\n",
              "      <td>5631500400</td>\n",
              "      <td>2/25/2015</td>\n",
              "      <td>180000.0</td>\n",
              "      <td>2</td>\n",
              "      <td>1.00</td>\n",
              "      <td>770</td>\n",
              "      <td>10000</td>\n",
              "      <td>1.0</td>\n",
              "      <td>0</td>\n",
              "      <td>0</td>\n",
              "      <td>3</td>\n",
              "      <td>6</td>\n",
              "      <td>770</td>\n",
              "      <td>0</td>\n",
              "      <td>1933</td>\n",
              "      <td>0</td>\n",
              "      <td>98028</td>\n",
              "      <td>47.7379</td>\n",
              "      <td>-122.233</td>\n",
              "      <td>2720</td>\n",
              "      <td>8062</td>\n",
              "    </tr>\n",
              "  </tbody>\n",
              "</table>\n",
              "</div>"
            ],
            "text/plain": [
              "           id        date     price  ...     long  sqft_living15  sqft_lot15\n",
              "0  7129300520  10/13/2014  221900.0  ... -122.257           1340        5650\n",
              "1  6414100192   12/9/2014  538000.0  ... -122.319           1690        7639\n",
              "2  5631500400   2/25/2015  180000.0  ... -122.233           2720        8062\n",
              "\n",
              "[3 rows x 21 columns]"
            ]
          },
          "metadata": {
            "tags": []
          },
          "execution_count": 60
        }
      ]
    },
    {
      "cell_type": "code",
      "metadata": {
        "colab": {
          "base_uri": "https://localhost:8080/"
        },
        "id": "ZcEnSbhtqBcE",
        "outputId": "8ab67ef0-5280-43b4-f18a-515435b3ef64"
      },
      "source": [
        "housesale_df.dtypes"
      ],
      "execution_count": 61,
      "outputs": [
        {
          "output_type": "execute_result",
          "data": {
            "text/plain": [
              "id                 int64\n",
              "date              object\n",
              "price            float64\n",
              "bedrooms           int64\n",
              "bathrooms        float64\n",
              "sqft_living        int64\n",
              "sqft_lot           int64\n",
              "floors           float64\n",
              "waterfront         int64\n",
              "view               int64\n",
              "condition          int64\n",
              "grade              int64\n",
              "sqft_above         int64\n",
              "sqft_basement      int64\n",
              "yr_built           int64\n",
              "yr_renovated       int64\n",
              "zipcode            int64\n",
              "lat              float64\n",
              "long             float64\n",
              "sqft_living15      int64\n",
              "sqft_lot15         int64\n",
              "dtype: object"
            ]
          },
          "metadata": {
            "tags": []
          },
          "execution_count": 61
        }
      ]
    },
    {
      "cell_type": "code",
      "metadata": {
        "id": "_E9n5DvYqIkE"
      },
      "source": [
        "housesale_df = housesale_df.drop(['id', 'date', 'zipcode'], axis=1)"
      ],
      "execution_count": 62,
      "outputs": []
    },
    {
      "cell_type": "code",
      "metadata": {
        "colab": {
          "base_uri": "https://localhost:8080/",
          "height": 142
        },
        "id": "SKhBhte9qXs8",
        "outputId": "0a185135-5cbf-4ee3-f9f0-4162dcd3d45e"
      },
      "source": [
        "housesale_df.head(3)"
      ],
      "execution_count": 63,
      "outputs": [
        {
          "output_type": "execute_result",
          "data": {
            "text/html": [
              "<div>\n",
              "<style scoped>\n",
              "    .dataframe tbody tr th:only-of-type {\n",
              "        vertical-align: middle;\n",
              "    }\n",
              "\n",
              "    .dataframe tbody tr th {\n",
              "        vertical-align: top;\n",
              "    }\n",
              "\n",
              "    .dataframe thead th {\n",
              "        text-align: right;\n",
              "    }\n",
              "</style>\n",
              "<table border=\"1\" class=\"dataframe\">\n",
              "  <thead>\n",
              "    <tr style=\"text-align: right;\">\n",
              "      <th></th>\n",
              "      <th>price</th>\n",
              "      <th>bedrooms</th>\n",
              "      <th>bathrooms</th>\n",
              "      <th>sqft_living</th>\n",
              "      <th>sqft_lot</th>\n",
              "      <th>floors</th>\n",
              "      <th>waterfront</th>\n",
              "      <th>view</th>\n",
              "      <th>condition</th>\n",
              "      <th>grade</th>\n",
              "      <th>sqft_above</th>\n",
              "      <th>sqft_basement</th>\n",
              "      <th>yr_built</th>\n",
              "      <th>yr_renovated</th>\n",
              "      <th>lat</th>\n",
              "      <th>long</th>\n",
              "      <th>sqft_living15</th>\n",
              "      <th>sqft_lot15</th>\n",
              "    </tr>\n",
              "  </thead>\n",
              "  <tbody>\n",
              "    <tr>\n",
              "      <th>0</th>\n",
              "      <td>221900.0</td>\n",
              "      <td>3</td>\n",
              "      <td>1.00</td>\n",
              "      <td>1180</td>\n",
              "      <td>5650</td>\n",
              "      <td>1.0</td>\n",
              "      <td>0</td>\n",
              "      <td>0</td>\n",
              "      <td>3</td>\n",
              "      <td>7</td>\n",
              "      <td>1180</td>\n",
              "      <td>0</td>\n",
              "      <td>1955</td>\n",
              "      <td>0</td>\n",
              "      <td>47.5112</td>\n",
              "      <td>-122.257</td>\n",
              "      <td>1340</td>\n",
              "      <td>5650</td>\n",
              "    </tr>\n",
              "    <tr>\n",
              "      <th>1</th>\n",
              "      <td>538000.0</td>\n",
              "      <td>3</td>\n",
              "      <td>2.25</td>\n",
              "      <td>2570</td>\n",
              "      <td>7242</td>\n",
              "      <td>2.0</td>\n",
              "      <td>0</td>\n",
              "      <td>0</td>\n",
              "      <td>3</td>\n",
              "      <td>7</td>\n",
              "      <td>2170</td>\n",
              "      <td>400</td>\n",
              "      <td>1951</td>\n",
              "      <td>1991</td>\n",
              "      <td>47.7210</td>\n",
              "      <td>-122.319</td>\n",
              "      <td>1690</td>\n",
              "      <td>7639</td>\n",
              "    </tr>\n",
              "    <tr>\n",
              "      <th>2</th>\n",
              "      <td>180000.0</td>\n",
              "      <td>2</td>\n",
              "      <td>1.00</td>\n",
              "      <td>770</td>\n",
              "      <td>10000</td>\n",
              "      <td>1.0</td>\n",
              "      <td>0</td>\n",
              "      <td>0</td>\n",
              "      <td>3</td>\n",
              "      <td>6</td>\n",
              "      <td>770</td>\n",
              "      <td>0</td>\n",
              "      <td>1933</td>\n",
              "      <td>0</td>\n",
              "      <td>47.7379</td>\n",
              "      <td>-122.233</td>\n",
              "      <td>2720</td>\n",
              "      <td>8062</td>\n",
              "    </tr>\n",
              "  </tbody>\n",
              "</table>\n",
              "</div>"
            ],
            "text/plain": [
              "      price  bedrooms  bathrooms  ...     long  sqft_living15  sqft_lot15\n",
              "0  221900.0         3       1.00  ... -122.257           1340        5650\n",
              "1  538000.0         3       2.25  ... -122.319           1690        7639\n",
              "2  180000.0         2       1.00  ... -122.233           2720        8062\n",
              "\n",
              "[3 rows x 18 columns]"
            ]
          },
          "metadata": {
            "tags": []
          },
          "execution_count": 63
        }
      ]
    },
    {
      "cell_type": "code",
      "metadata": {
        "id": "BmA_ZDohqZoF"
      },
      "source": [
        "housesale_df['age'] = datetime.datetime.now().year - housesale_df['yr_built']"
      ],
      "execution_count": 68,
      "outputs": []
    },
    {
      "cell_type": "code",
      "metadata": {
        "colab": {
          "base_uri": "https://localhost:8080/",
          "height": 142
        },
        "id": "HvOAVIF8qov0",
        "outputId": "44d4c50f-89d8-47a5-bbbd-9d90116661b4"
      },
      "source": [
        "housesale_df.drop('yr_built', axis=1, inplace=True)\n",
        "housesale_df.head(3)"
      ],
      "execution_count": 70,
      "outputs": [
        {
          "output_type": "execute_result",
          "data": {
            "text/html": [
              "<div>\n",
              "<style scoped>\n",
              "    .dataframe tbody tr th:only-of-type {\n",
              "        vertical-align: middle;\n",
              "    }\n",
              "\n",
              "    .dataframe tbody tr th {\n",
              "        vertical-align: top;\n",
              "    }\n",
              "\n",
              "    .dataframe thead th {\n",
              "        text-align: right;\n",
              "    }\n",
              "</style>\n",
              "<table border=\"1\" class=\"dataframe\">\n",
              "  <thead>\n",
              "    <tr style=\"text-align: right;\">\n",
              "      <th></th>\n",
              "      <th>price</th>\n",
              "      <th>bedrooms</th>\n",
              "      <th>bathrooms</th>\n",
              "      <th>sqft_living</th>\n",
              "      <th>sqft_lot</th>\n",
              "      <th>floors</th>\n",
              "      <th>waterfront</th>\n",
              "      <th>view</th>\n",
              "      <th>condition</th>\n",
              "      <th>grade</th>\n",
              "      <th>sqft_above</th>\n",
              "      <th>sqft_basement</th>\n",
              "      <th>yr_renovated</th>\n",
              "      <th>lat</th>\n",
              "      <th>long</th>\n",
              "      <th>sqft_living15</th>\n",
              "      <th>sqft_lot15</th>\n",
              "      <th>age</th>\n",
              "    </tr>\n",
              "  </thead>\n",
              "  <tbody>\n",
              "    <tr>\n",
              "      <th>0</th>\n",
              "      <td>221900.0</td>\n",
              "      <td>3</td>\n",
              "      <td>1.00</td>\n",
              "      <td>1180</td>\n",
              "      <td>5650</td>\n",
              "      <td>1.0</td>\n",
              "      <td>0</td>\n",
              "      <td>0</td>\n",
              "      <td>3</td>\n",
              "      <td>7</td>\n",
              "      <td>1180</td>\n",
              "      <td>0</td>\n",
              "      <td>0</td>\n",
              "      <td>47.5112</td>\n",
              "      <td>-122.257</td>\n",
              "      <td>1340</td>\n",
              "      <td>5650</td>\n",
              "      <td>66</td>\n",
              "    </tr>\n",
              "    <tr>\n",
              "      <th>1</th>\n",
              "      <td>538000.0</td>\n",
              "      <td>3</td>\n",
              "      <td>2.25</td>\n",
              "      <td>2570</td>\n",
              "      <td>7242</td>\n",
              "      <td>2.0</td>\n",
              "      <td>0</td>\n",
              "      <td>0</td>\n",
              "      <td>3</td>\n",
              "      <td>7</td>\n",
              "      <td>2170</td>\n",
              "      <td>400</td>\n",
              "      <td>1991</td>\n",
              "      <td>47.7210</td>\n",
              "      <td>-122.319</td>\n",
              "      <td>1690</td>\n",
              "      <td>7639</td>\n",
              "      <td>70</td>\n",
              "    </tr>\n",
              "    <tr>\n",
              "      <th>2</th>\n",
              "      <td>180000.0</td>\n",
              "      <td>2</td>\n",
              "      <td>1.00</td>\n",
              "      <td>770</td>\n",
              "      <td>10000</td>\n",
              "      <td>1.0</td>\n",
              "      <td>0</td>\n",
              "      <td>0</td>\n",
              "      <td>3</td>\n",
              "      <td>6</td>\n",
              "      <td>770</td>\n",
              "      <td>0</td>\n",
              "      <td>0</td>\n",
              "      <td>47.7379</td>\n",
              "      <td>-122.233</td>\n",
              "      <td>2720</td>\n",
              "      <td>8062</td>\n",
              "      <td>88</td>\n",
              "    </tr>\n",
              "  </tbody>\n",
              "</table>\n",
              "</div>"
            ],
            "text/plain": [
              "      price  bedrooms  bathrooms  ...  sqft_living15  sqft_lot15  age\n",
              "0  221900.0         3       1.00  ...           1340        5650   66\n",
              "1  538000.0         3       2.25  ...           1690        7639   70\n",
              "2  180000.0         2       1.00  ...           2720        8062   88\n",
              "\n",
              "[3 rows x 18 columns]"
            ]
          },
          "metadata": {
            "tags": []
          },
          "execution_count": 70
        }
      ]
    },
    {
      "cell_type": "code",
      "metadata": {
        "colab": {
          "base_uri": "https://localhost:8080/",
          "height": 142
        },
        "id": "OxmteMRHqq9U",
        "outputId": "7e1dd7d1-de6c-4d9d-8bdf-24984c3d8e3a"
      },
      "source": [
        "housesale_df['renovated'] = housesale_df['yr_renovated'].apply(lambda x: 1 if x > 0 else 0)\n",
        "housesale_df.drop('yr_renovated', axis=1, inplace=True)\n",
        "housesale_df.head(3)"
      ],
      "execution_count": 71,
      "outputs": [
        {
          "output_type": "execute_result",
          "data": {
            "text/html": [
              "<div>\n",
              "<style scoped>\n",
              "    .dataframe tbody tr th:only-of-type {\n",
              "        vertical-align: middle;\n",
              "    }\n",
              "\n",
              "    .dataframe tbody tr th {\n",
              "        vertical-align: top;\n",
              "    }\n",
              "\n",
              "    .dataframe thead th {\n",
              "        text-align: right;\n",
              "    }\n",
              "</style>\n",
              "<table border=\"1\" class=\"dataframe\">\n",
              "  <thead>\n",
              "    <tr style=\"text-align: right;\">\n",
              "      <th></th>\n",
              "      <th>price</th>\n",
              "      <th>bedrooms</th>\n",
              "      <th>bathrooms</th>\n",
              "      <th>sqft_living</th>\n",
              "      <th>sqft_lot</th>\n",
              "      <th>floors</th>\n",
              "      <th>waterfront</th>\n",
              "      <th>view</th>\n",
              "      <th>condition</th>\n",
              "      <th>grade</th>\n",
              "      <th>sqft_above</th>\n",
              "      <th>sqft_basement</th>\n",
              "      <th>lat</th>\n",
              "      <th>long</th>\n",
              "      <th>sqft_living15</th>\n",
              "      <th>sqft_lot15</th>\n",
              "      <th>age</th>\n",
              "      <th>renovated</th>\n",
              "    </tr>\n",
              "  </thead>\n",
              "  <tbody>\n",
              "    <tr>\n",
              "      <th>0</th>\n",
              "      <td>221900.0</td>\n",
              "      <td>3</td>\n",
              "      <td>1.00</td>\n",
              "      <td>1180</td>\n",
              "      <td>5650</td>\n",
              "      <td>1.0</td>\n",
              "      <td>0</td>\n",
              "      <td>0</td>\n",
              "      <td>3</td>\n",
              "      <td>7</td>\n",
              "      <td>1180</td>\n",
              "      <td>0</td>\n",
              "      <td>47.5112</td>\n",
              "      <td>-122.257</td>\n",
              "      <td>1340</td>\n",
              "      <td>5650</td>\n",
              "      <td>66</td>\n",
              "      <td>0</td>\n",
              "    </tr>\n",
              "    <tr>\n",
              "      <th>1</th>\n",
              "      <td>538000.0</td>\n",
              "      <td>3</td>\n",
              "      <td>2.25</td>\n",
              "      <td>2570</td>\n",
              "      <td>7242</td>\n",
              "      <td>2.0</td>\n",
              "      <td>0</td>\n",
              "      <td>0</td>\n",
              "      <td>3</td>\n",
              "      <td>7</td>\n",
              "      <td>2170</td>\n",
              "      <td>400</td>\n",
              "      <td>47.7210</td>\n",
              "      <td>-122.319</td>\n",
              "      <td>1690</td>\n",
              "      <td>7639</td>\n",
              "      <td>70</td>\n",
              "      <td>1</td>\n",
              "    </tr>\n",
              "    <tr>\n",
              "      <th>2</th>\n",
              "      <td>180000.0</td>\n",
              "      <td>2</td>\n",
              "      <td>1.00</td>\n",
              "      <td>770</td>\n",
              "      <td>10000</td>\n",
              "      <td>1.0</td>\n",
              "      <td>0</td>\n",
              "      <td>0</td>\n",
              "      <td>3</td>\n",
              "      <td>6</td>\n",
              "      <td>770</td>\n",
              "      <td>0</td>\n",
              "      <td>47.7379</td>\n",
              "      <td>-122.233</td>\n",
              "      <td>2720</td>\n",
              "      <td>8062</td>\n",
              "      <td>88</td>\n",
              "      <td>0</td>\n",
              "    </tr>\n",
              "  </tbody>\n",
              "</table>\n",
              "</div>"
            ],
            "text/plain": [
              "      price  bedrooms  bathrooms  ...  sqft_lot15  age  renovated\n",
              "0  221900.0         3       1.00  ...        5650   66          0\n",
              "1  538000.0         3       2.25  ...        7639   70          1\n",
              "2  180000.0         2       1.00  ...        8062   88          0\n",
              "\n",
              "[3 rows x 18 columns]"
            ]
          },
          "metadata": {
            "tags": []
          },
          "execution_count": 71
        }
      ]
    },
    {
      "cell_type": "code",
      "metadata": {
        "id": "455G8uRhrTvz"
      },
      "source": [
        "housesale_df['renovated'] = housesale_df['renovated'].astype('category')"
      ],
      "execution_count": 74,
      "outputs": []
    },
    {
      "cell_type": "code",
      "metadata": {
        "colab": {
          "base_uri": "https://localhost:8080/"
        },
        "id": "k-aaGfwGrYTU",
        "outputId": "f0045068-07e7-4c7c-c7e9-fcc6dbbda762"
      },
      "source": [
        "housesale_df.dtypes"
      ],
      "execution_count": 75,
      "outputs": [
        {
          "output_type": "execute_result",
          "data": {
            "text/plain": [
              "price             float64\n",
              "bedrooms            int64\n",
              "bathrooms         float64\n",
              "sqft_living         int64\n",
              "sqft_lot            int64\n",
              "floors            float64\n",
              "waterfront          int64\n",
              "view                int64\n",
              "condition           int64\n",
              "grade               int64\n",
              "sqft_above          int64\n",
              "sqft_basement       int64\n",
              "lat               float64\n",
              "long              float64\n",
              "sqft_living15       int64\n",
              "sqft_lot15          int64\n",
              "age                 int64\n",
              "renovated        category\n",
              "dtype: object"
            ]
          },
          "metadata": {
            "tags": []
          },
          "execution_count": 75
        }
      ]
    },
    {
      "cell_type": "code",
      "metadata": {
        "colab": {
          "base_uri": "https://localhost:8080/",
          "height": 317
        },
        "id": "FmSQNb-Bs3lt",
        "outputId": "b6331b6a-4373-4243-9cc0-f61e18b403fa"
      },
      "source": [
        "housesale_df.describe()"
      ],
      "execution_count": 76,
      "outputs": [
        {
          "output_type": "execute_result",
          "data": {
            "text/html": [
              "<div>\n",
              "<style scoped>\n",
              "    .dataframe tbody tr th:only-of-type {\n",
              "        vertical-align: middle;\n",
              "    }\n",
              "\n",
              "    .dataframe tbody tr th {\n",
              "        vertical-align: top;\n",
              "    }\n",
              "\n",
              "    .dataframe thead th {\n",
              "        text-align: right;\n",
              "    }\n",
              "</style>\n",
              "<table border=\"1\" class=\"dataframe\">\n",
              "  <thead>\n",
              "    <tr style=\"text-align: right;\">\n",
              "      <th></th>\n",
              "      <th>price</th>\n",
              "      <th>bedrooms</th>\n",
              "      <th>bathrooms</th>\n",
              "      <th>sqft_living</th>\n",
              "      <th>sqft_lot</th>\n",
              "      <th>floors</th>\n",
              "      <th>waterfront</th>\n",
              "      <th>view</th>\n",
              "      <th>condition</th>\n",
              "      <th>grade</th>\n",
              "      <th>sqft_above</th>\n",
              "      <th>sqft_basement</th>\n",
              "      <th>lat</th>\n",
              "      <th>long</th>\n",
              "      <th>sqft_living15</th>\n",
              "      <th>sqft_lot15</th>\n",
              "      <th>age</th>\n",
              "    </tr>\n",
              "  </thead>\n",
              "  <tbody>\n",
              "    <tr>\n",
              "      <th>count</th>\n",
              "      <td>2.159700e+04</td>\n",
              "      <td>21597.000000</td>\n",
              "      <td>21597.000000</td>\n",
              "      <td>21597.000000</td>\n",
              "      <td>2.159700e+04</td>\n",
              "      <td>21597.000000</td>\n",
              "      <td>21597.000000</td>\n",
              "      <td>21597.000000</td>\n",
              "      <td>21597.000000</td>\n",
              "      <td>21597.000000</td>\n",
              "      <td>21597.000000</td>\n",
              "      <td>21597.000000</td>\n",
              "      <td>21597.000000</td>\n",
              "      <td>21597.000000</td>\n",
              "      <td>21597.000000</td>\n",
              "      <td>21597.000000</td>\n",
              "      <td>21597.000000</td>\n",
              "    </tr>\n",
              "    <tr>\n",
              "      <th>mean</th>\n",
              "      <td>5.402966e+05</td>\n",
              "      <td>3.373200</td>\n",
              "      <td>2.115826</td>\n",
              "      <td>2080.321850</td>\n",
              "      <td>1.509941e+04</td>\n",
              "      <td>1.494096</td>\n",
              "      <td>0.007547</td>\n",
              "      <td>0.234292</td>\n",
              "      <td>3.409825</td>\n",
              "      <td>7.657915</td>\n",
              "      <td>1788.596842</td>\n",
              "      <td>291.725008</td>\n",
              "      <td>47.560093</td>\n",
              "      <td>-122.213982</td>\n",
              "      <td>1986.620318</td>\n",
              "      <td>12758.283512</td>\n",
              "      <td>50.000324</td>\n",
              "    </tr>\n",
              "    <tr>\n",
              "      <th>std</th>\n",
              "      <td>3.673681e+05</td>\n",
              "      <td>0.926299</td>\n",
              "      <td>0.768984</td>\n",
              "      <td>918.106125</td>\n",
              "      <td>4.141264e+04</td>\n",
              "      <td>0.539683</td>\n",
              "      <td>0.086549</td>\n",
              "      <td>0.766390</td>\n",
              "      <td>0.650546</td>\n",
              "      <td>1.173200</td>\n",
              "      <td>827.759761</td>\n",
              "      <td>442.667800</td>\n",
              "      <td>0.138552</td>\n",
              "      <td>0.140724</td>\n",
              "      <td>685.230472</td>\n",
              "      <td>27274.441950</td>\n",
              "      <td>29.375234</td>\n",
              "    </tr>\n",
              "    <tr>\n",
              "      <th>min</th>\n",
              "      <td>7.800000e+04</td>\n",
              "      <td>1.000000</td>\n",
              "      <td>0.500000</td>\n",
              "      <td>370.000000</td>\n",
              "      <td>5.200000e+02</td>\n",
              "      <td>1.000000</td>\n",
              "      <td>0.000000</td>\n",
              "      <td>0.000000</td>\n",
              "      <td>1.000000</td>\n",
              "      <td>3.000000</td>\n",
              "      <td>370.000000</td>\n",
              "      <td>0.000000</td>\n",
              "      <td>47.155900</td>\n",
              "      <td>-122.519000</td>\n",
              "      <td>399.000000</td>\n",
              "      <td>651.000000</td>\n",
              "      <td>6.000000</td>\n",
              "    </tr>\n",
              "    <tr>\n",
              "      <th>25%</th>\n",
              "      <td>3.220000e+05</td>\n",
              "      <td>3.000000</td>\n",
              "      <td>1.750000</td>\n",
              "      <td>1430.000000</td>\n",
              "      <td>5.040000e+03</td>\n",
              "      <td>1.000000</td>\n",
              "      <td>0.000000</td>\n",
              "      <td>0.000000</td>\n",
              "      <td>3.000000</td>\n",
              "      <td>7.000000</td>\n",
              "      <td>1190.000000</td>\n",
              "      <td>0.000000</td>\n",
              "      <td>47.471100</td>\n",
              "      <td>-122.328000</td>\n",
              "      <td>1490.000000</td>\n",
              "      <td>5100.000000</td>\n",
              "      <td>24.000000</td>\n",
              "    </tr>\n",
              "    <tr>\n",
              "      <th>50%</th>\n",
              "      <td>4.500000e+05</td>\n",
              "      <td>3.000000</td>\n",
              "      <td>2.250000</td>\n",
              "      <td>1910.000000</td>\n",
              "      <td>7.618000e+03</td>\n",
              "      <td>1.500000</td>\n",
              "      <td>0.000000</td>\n",
              "      <td>0.000000</td>\n",
              "      <td>3.000000</td>\n",
              "      <td>7.000000</td>\n",
              "      <td>1560.000000</td>\n",
              "      <td>0.000000</td>\n",
              "      <td>47.571800</td>\n",
              "      <td>-122.231000</td>\n",
              "      <td>1840.000000</td>\n",
              "      <td>7620.000000</td>\n",
              "      <td>46.000000</td>\n",
              "    </tr>\n",
              "    <tr>\n",
              "      <th>75%</th>\n",
              "      <td>6.450000e+05</td>\n",
              "      <td>4.000000</td>\n",
              "      <td>2.500000</td>\n",
              "      <td>2550.000000</td>\n",
              "      <td>1.068500e+04</td>\n",
              "      <td>2.000000</td>\n",
              "      <td>0.000000</td>\n",
              "      <td>0.000000</td>\n",
              "      <td>4.000000</td>\n",
              "      <td>8.000000</td>\n",
              "      <td>2210.000000</td>\n",
              "      <td>560.000000</td>\n",
              "      <td>47.678000</td>\n",
              "      <td>-122.125000</td>\n",
              "      <td>2360.000000</td>\n",
              "      <td>10083.000000</td>\n",
              "      <td>70.000000</td>\n",
              "    </tr>\n",
              "    <tr>\n",
              "      <th>max</th>\n",
              "      <td>7.700000e+06</td>\n",
              "      <td>33.000000</td>\n",
              "      <td>8.000000</td>\n",
              "      <td>13540.000000</td>\n",
              "      <td>1.651359e+06</td>\n",
              "      <td>3.500000</td>\n",
              "      <td>1.000000</td>\n",
              "      <td>4.000000</td>\n",
              "      <td>5.000000</td>\n",
              "      <td>13.000000</td>\n",
              "      <td>9410.000000</td>\n",
              "      <td>4820.000000</td>\n",
              "      <td>47.777600</td>\n",
              "      <td>-121.315000</td>\n",
              "      <td>6210.000000</td>\n",
              "      <td>871200.000000</td>\n",
              "      <td>121.000000</td>\n",
              "    </tr>\n",
              "  </tbody>\n",
              "</table>\n",
              "</div>"
            ],
            "text/plain": [
              "              price      bedrooms  ...     sqft_lot15           age\n",
              "count  2.159700e+04  21597.000000  ...   21597.000000  21597.000000\n",
              "mean   5.402966e+05      3.373200  ...   12758.283512     50.000324\n",
              "std    3.673681e+05      0.926299  ...   27274.441950     29.375234\n",
              "min    7.800000e+04      1.000000  ...     651.000000      6.000000\n",
              "25%    3.220000e+05      3.000000  ...    5100.000000     24.000000\n",
              "50%    4.500000e+05      3.000000  ...    7620.000000     46.000000\n",
              "75%    6.450000e+05      4.000000  ...   10083.000000     70.000000\n",
              "max    7.700000e+06     33.000000  ...  871200.000000    121.000000\n",
              "\n",
              "[8 rows x 17 columns]"
            ]
          },
          "metadata": {
            "tags": []
          },
          "execution_count": 76
        }
      ]
    },
    {
      "cell_type": "code",
      "metadata": {
        "colab": {
          "base_uri": "https://localhost:8080/",
          "height": 497
        },
        "id": "ZuDLHl4StDps",
        "outputId": "a34a5160-f5d7-40f8-8d03-179dced7c106"
      },
      "source": [
        "fig, ax = plt.subplots(figsize=(12, 8))\n",
        "\n",
        "plt.scatter(x='bedrooms', y='bathrooms', data=housesale_df)\n",
        "\n",
        "plt.xlabel('No of Bedrooms/House')\n",
        "plt.ylabel('No of Bathrooms/House')\n",
        "\n",
        "plt.show()"
      ],
      "execution_count": 79,
      "outputs": [
        {
          "output_type": "display_data",
          "data": {
            "image/png": "[encoded data removed]",
            "text/plain": [
              "<Figure size 864x576 with 1 Axes>"
            ]
          },
          "metadata": {
            "tags": [],
            "needs_background": "light"
          }
        }
      ]
    },
    {
      "cell_type": "code",
      "metadata": {
        "colab": {
          "base_uri": "https://localhost:8080/",
          "height": 508
        },
        "id": "d2QwCIZxtXSd",
        "outputId": "f62b7979-383d-4015-b19f-7477fc7f9b34"
      },
      "source": [
        "fig, ax = plt.subplots(figsize=(12, 8))\n",
        "\n",
        "plt.scatter(x='sqft_living', y='price', data=housesale_df)\n",
        "\n",
        "plt.xlabel('Square footage of the house')\n",
        "plt.ylabel('Price')\n",
        "\n",
        "plt.show()"
      ],
      "execution_count": 80,
      "outputs": [
        {
          "output_type": "display_data",
          "data": {
            "image/png": "[encoded data removed]",
            "text/plain": [
              "<Figure size 864x576 with 1 Axes>"
            ]
          },
          "metadata": {
            "tags": [],
            "needs_background": "light"
          }
        }
      ]
    },
    {
      "cell_type": "code",
      "metadata": {
        "colab": {
          "base_uri": "https://localhost:8080/",
          "height": 508
        },
        "id": "Z-IK9-0ntz2U",
        "outputId": "83bf60a3-d929-43bb-dd33-ae744b69e526"
      },
      "source": [
        "fig, ax = plt.subplots(figsize=(12, 8))\n",
        "\n",
        "plt.scatter(x='grade', y='price', data=housesale_df)\n",
        "\n",
        "plt.xlabel('Grade')\n",
        "plt.ylabel('Price')\n",
        "\n",
        "plt.show()"
      ],
      "execution_count": 81,
      "outputs": [
        {
          "output_type": "display_data",
          "data": {
            "image/png": "[encoded data removed]",
            "text/plain": [
              "<Figure size 864x576 with 1 Axes>"
            ]
          },
          "metadata": {
            "tags": [],
            "needs_background": "light"
          }
        }
      ]
    },
    {
      "cell_type": "code",
      "metadata": {
        "colab": {
          "base_uri": "https://localhost:8080/",
          "height": 596
        },
        "id": "9sh6YV8pt94l",
        "outputId": "536ca36a-17a4-471c-a9a8-12c2d7a201ac"
      },
      "source": [
        "housesale_corr = housesale_df.corr()\n",
        "\n",
        "housesale_corr"
      ],
      "execution_count": 82,
      "outputs": [
        {
          "output_type": "execute_result",
          "data": {
            "text/html": [
              "<div>\n",
              "<style scoped>\n",
              "    .dataframe tbody tr th:only-of-type {\n",
              "        vertical-align: middle;\n",
              "    }\n",
              "\n",
              "    .dataframe tbody tr th {\n",
              "        vertical-align: top;\n",
              "    }\n",
              "\n",
              "    .dataframe thead th {\n",
              "        text-align: right;\n",
              "    }\n",
              "</style>\n",
              "<table border=\"1\" class=\"dataframe\">\n",
              "  <thead>\n",
              "    <tr style=\"text-align: right;\">\n",
              "      <th></th>\n",
              "      <th>price</th>\n",
              "      <th>bedrooms</th>\n",
              "      <th>bathrooms</th>\n",
              "      <th>sqft_living</th>\n",
              "      <th>sqft_lot</th>\n",
              "      <th>floors</th>\n",
              "      <th>waterfront</th>\n",
              "      <th>view</th>\n",
              "      <th>condition</th>\n",
              "      <th>grade</th>\n",
              "      <th>sqft_above</th>\n",
              "      <th>sqft_basement</th>\n",
              "      <th>lat</th>\n",
              "      <th>long</th>\n",
              "      <th>sqft_living15</th>\n",
              "      <th>sqft_lot15</th>\n",
              "      <th>age</th>\n",
              "    </tr>\n",
              "  </thead>\n",
              "  <tbody>\n",
              "    <tr>\n",
              "      <th>price</th>\n",
              "      <td>1.000000</td>\n",
              "      <td>0.308787</td>\n",
              "      <td>0.525906</td>\n",
              "      <td>0.701917</td>\n",
              "      <td>0.089876</td>\n",
              "      <td>0.256804</td>\n",
              "      <td>0.266398</td>\n",
              "      <td>0.397370</td>\n",
              "      <td>0.036056</td>\n",
              "      <td>0.667951</td>\n",
              "      <td>0.605368</td>\n",
              "      <td>0.323799</td>\n",
              "      <td>0.306692</td>\n",
              "      <td>0.022036</td>\n",
              "      <td>0.585241</td>\n",
              "      <td>0.082845</td>\n",
              "      <td>-0.053953</td>\n",
              "    </tr>\n",
              "    <tr>\n",
              "      <th>bedrooms</th>\n",
              "      <td>0.308787</td>\n",
              "      <td>1.000000</td>\n",
              "      <td>0.514508</td>\n",
              "      <td>0.578212</td>\n",
              "      <td>0.032471</td>\n",
              "      <td>0.177944</td>\n",
              "      <td>-0.006834</td>\n",
              "      <td>0.080008</td>\n",
              "      <td>0.026496</td>\n",
              "      <td>0.356563</td>\n",
              "      <td>0.479386</td>\n",
              "      <td>0.302808</td>\n",
              "      <td>-0.009951</td>\n",
              "      <td>0.132054</td>\n",
              "      <td>0.393406</td>\n",
              "      <td>0.030690</td>\n",
              "      <td>-0.155670</td>\n",
              "    </tr>\n",
              "    <tr>\n",
              "      <th>bathrooms</th>\n",
              "      <td>0.525906</td>\n",
              "      <td>0.514508</td>\n",
              "      <td>1.000000</td>\n",
              "      <td>0.755758</td>\n",
              "      <td>0.088373</td>\n",
              "      <td>0.502582</td>\n",
              "      <td>0.063744</td>\n",
              "      <td>0.188386</td>\n",
              "      <td>-0.126479</td>\n",
              "      <td>0.665838</td>\n",
              "      <td>0.686668</td>\n",
              "      <td>0.283440</td>\n",
              "      <td>0.024280</td>\n",
              "      <td>0.224903</td>\n",
              "      <td>0.569884</td>\n",
              "      <td>0.088303</td>\n",
              "      <td>-0.507173</td>\n",
              "    </tr>\n",
              "    <tr>\n",
              "      <th>sqft_living</th>\n",
              "      <td>0.701917</td>\n",
              "      <td>0.578212</td>\n",
              "      <td>0.755758</td>\n",
              "      <td>1.000000</td>\n",
              "      <td>0.173453</td>\n",
              "      <td>0.353953</td>\n",
              "      <td>0.103854</td>\n",
              "      <td>0.284709</td>\n",
              "      <td>-0.059445</td>\n",
              "      <td>0.762779</td>\n",
              "      <td>0.876448</td>\n",
              "      <td>0.435130</td>\n",
              "      <td>0.052155</td>\n",
              "      <td>0.241214</td>\n",
              "      <td>0.756402</td>\n",
              "      <td>0.184342</td>\n",
              "      <td>-0.318152</td>\n",
              "    </tr>\n",
              "    <tr>\n",
              "      <th>sqft_lot</th>\n",
              "      <td>0.089876</td>\n",
              "      <td>0.032471</td>\n",
              "      <td>0.088373</td>\n",
              "      <td>0.173453</td>\n",
              "      <td>1.000000</td>\n",
              "      <td>-0.004814</td>\n",
              "      <td>0.021632</td>\n",
              "      <td>0.074900</td>\n",
              "      <td>-0.008830</td>\n",
              "      <td>0.114731</td>\n",
              "      <td>0.184139</td>\n",
              "      <td>0.015418</td>\n",
              "      <td>-0.085514</td>\n",
              "      <td>0.230227</td>\n",
              "      <td>0.144763</td>\n",
              "      <td>0.718204</td>\n",
              "      <td>-0.052946</td>\n",
              "    </tr>\n",
              "    <tr>\n",
              "      <th>floors</th>\n",
              "      <td>0.256804</td>\n",
              "      <td>0.177944</td>\n",
              "      <td>0.502582</td>\n",
              "      <td>0.353953</td>\n",
              "      <td>-0.004814</td>\n",
              "      <td>1.000000</td>\n",
              "      <td>0.023755</td>\n",
              "      <td>0.028814</td>\n",
              "      <td>-0.264075</td>\n",
              "      <td>0.458794</td>\n",
              "      <td>0.523989</td>\n",
              "      <td>-0.245715</td>\n",
              "      <td>0.049239</td>\n",
              "      <td>0.125943</td>\n",
              "      <td>0.280102</td>\n",
              "      <td>-0.010722</td>\n",
              "      <td>-0.489193</td>\n",
              "    </tr>\n",
              "    <tr>\n",
              "      <th>waterfront</th>\n",
              "      <td>0.266398</td>\n",
              "      <td>-0.006834</td>\n",
              "      <td>0.063744</td>\n",
              "      <td>0.103854</td>\n",
              "      <td>0.021632</td>\n",
              "      <td>0.023755</td>\n",
              "      <td>1.000000</td>\n",
              "      <td>0.401971</td>\n",
              "      <td>0.016611</td>\n",
              "      <td>0.082888</td>\n",
              "      <td>0.072109</td>\n",
              "      <td>0.080559</td>\n",
              "      <td>-0.014306</td>\n",
              "      <td>-0.041904</td>\n",
              "      <td>0.086507</td>\n",
              "      <td>0.030781</td>\n",
              "      <td>0.026153</td>\n",
              "    </tr>\n",
              "    <tr>\n",
              "      <th>view</th>\n",
              "      <td>0.397370</td>\n",
              "      <td>0.080008</td>\n",
              "      <td>0.188386</td>\n",
              "      <td>0.284709</td>\n",
              "      <td>0.074900</td>\n",
              "      <td>0.028814</td>\n",
              "      <td>0.401971</td>\n",
              "      <td>1.000000</td>\n",
              "      <td>0.045999</td>\n",
              "      <td>0.251728</td>\n",
              "      <td>0.167609</td>\n",
              "      <td>0.277078</td>\n",
              "      <td>0.005871</td>\n",
              "      <td>-0.078107</td>\n",
              "      <td>0.280681</td>\n",
              "      <td>0.072904</td>\n",
              "      <td>0.053636</td>\n",
              "    </tr>\n",
              "    <tr>\n",
              "      <th>condition</th>\n",
              "      <td>0.036056</td>\n",
              "      <td>0.026496</td>\n",
              "      <td>-0.126479</td>\n",
              "      <td>-0.059445</td>\n",
              "      <td>-0.008830</td>\n",
              "      <td>-0.264075</td>\n",
              "      <td>0.016611</td>\n",
              "      <td>0.045999</td>\n",
              "      <td>1.000000</td>\n",
              "      <td>-0.146896</td>\n",
              "      <td>-0.158904</td>\n",
              "      <td>0.173849</td>\n",
              "      <td>-0.015102</td>\n",
              "      <td>-0.105877</td>\n",
              "      <td>-0.093072</td>\n",
              "      <td>-0.003126</td>\n",
              "      <td>0.361592</td>\n",
              "    </tr>\n",
              "    <tr>\n",
              "      <th>grade</th>\n",
              "      <td>0.667951</td>\n",
              "      <td>0.356563</td>\n",
              "      <td>0.665838</td>\n",
              "      <td>0.762779</td>\n",
              "      <td>0.114731</td>\n",
              "      <td>0.458794</td>\n",
              "      <td>0.082888</td>\n",
              "      <td>0.251728</td>\n",
              "      <td>-0.146896</td>\n",
              "      <td>1.000000</td>\n",
              "      <td>0.756073</td>\n",
              "      <td>0.168220</td>\n",
              "      <td>0.113575</td>\n",
              "      <td>0.200341</td>\n",
              "      <td>0.713867</td>\n",
              "      <td>0.120981</td>\n",
              "      <td>-0.447865</td>\n",
              "    </tr>\n",
              "    <tr>\n",
              "      <th>sqft_above</th>\n",
              "      <td>0.605368</td>\n",
              "      <td>0.479386</td>\n",
              "      <td>0.686668</td>\n",
              "      <td>0.876448</td>\n",
              "      <td>0.184139</td>\n",
              "      <td>0.523989</td>\n",
              "      <td>0.072109</td>\n",
              "      <td>0.167609</td>\n",
              "      <td>-0.158904</td>\n",
              "      <td>0.756073</td>\n",
              "      <td>1.000000</td>\n",
              "      <td>-0.052156</td>\n",
              "      <td>-0.001199</td>\n",
              "      <td>0.344842</td>\n",
              "      <td>0.731767</td>\n",
              "      <td>0.195077</td>\n",
              "      <td>-0.424037</td>\n",
              "    </tr>\n",
              "    <tr>\n",
              "      <th>sqft_basement</th>\n",
              "      <td>0.323799</td>\n",
              "      <td>0.302808</td>\n",
              "      <td>0.283440</td>\n",
              "      <td>0.435130</td>\n",
              "      <td>0.015418</td>\n",
              "      <td>-0.245715</td>\n",
              "      <td>0.080559</td>\n",
              "      <td>0.277078</td>\n",
              "      <td>0.173849</td>\n",
              "      <td>0.168220</td>\n",
              "      <td>-0.052156</td>\n",
              "      <td>1.000000</td>\n",
              "      <td>0.110414</td>\n",
              "      <td>-0.144546</td>\n",
              "      <td>0.200443</td>\n",
              "      <td>0.017550</td>\n",
              "      <td>0.133064</td>\n",
              "    </tr>\n",
              "    <tr>\n",
              "      <th>lat</th>\n",
              "      <td>0.306692</td>\n",
              "      <td>-0.009951</td>\n",
              "      <td>0.024280</td>\n",
              "      <td>0.052155</td>\n",
              "      <td>-0.085514</td>\n",
              "      <td>0.049239</td>\n",
              "      <td>-0.014306</td>\n",
              "      <td>0.005871</td>\n",
              "      <td>-0.015102</td>\n",
              "      <td>0.113575</td>\n",
              "      <td>-0.001199</td>\n",
              "      <td>0.110414</td>\n",
              "      <td>1.000000</td>\n",
              "      <td>-0.135371</td>\n",
              "      <td>0.048679</td>\n",
              "      <td>-0.086139</td>\n",
              "      <td>0.148370</td>\n",
              "    </tr>\n",
              "    <tr>\n",
              "      <th>long</th>\n",
              "      <td>0.022036</td>\n",
              "      <td>0.132054</td>\n",
              "      <td>0.224903</td>\n",
              "      <td>0.241214</td>\n",
              "      <td>0.230227</td>\n",
              "      <td>0.125943</td>\n",
              "      <td>-0.041904</td>\n",
              "      <td>-0.078107</td>\n",
              "      <td>-0.105877</td>\n",
              "      <td>0.200341</td>\n",
              "      <td>0.344842</td>\n",
              "      <td>-0.144546</td>\n",
              "      <td>-0.135371</td>\n",
              "      <td>1.000000</td>\n",
              "      <td>0.335626</td>\n",
              "      <td>0.255586</td>\n",
              "      <td>-0.409993</td>\n",
              "    </tr>\n",
              "    <tr>\n",
              "      <th>sqft_living15</th>\n",
              "      <td>0.585241</td>\n",
              "      <td>0.393406</td>\n",
              "      <td>0.569884</td>\n",
              "      <td>0.756402</td>\n",
              "      <td>0.144763</td>\n",
              "      <td>0.280102</td>\n",
              "      <td>0.086507</td>\n",
              "      <td>0.280681</td>\n",
              "      <td>-0.093072</td>\n",
              "      <td>0.713867</td>\n",
              "      <td>0.731767</td>\n",
              "      <td>0.200443</td>\n",
              "      <td>0.048679</td>\n",
              "      <td>0.335626</td>\n",
              "      <td>1.000000</td>\n",
              "      <td>0.183515</td>\n",
              "      <td>-0.326377</td>\n",
              "    </tr>\n",
              "    <tr>\n",
              "      <th>sqft_lot15</th>\n",
              "      <td>0.082845</td>\n",
              "      <td>0.030690</td>\n",
              "      <td>0.088303</td>\n",
              "      <td>0.184342</td>\n",
              "      <td>0.718204</td>\n",
              "      <td>-0.010722</td>\n",
              "      <td>0.030781</td>\n",
              "      <td>0.072904</td>\n",
              "      <td>-0.003126</td>\n",
              "      <td>0.120981</td>\n",
              "      <td>0.195077</td>\n",
              "      <td>0.017550</td>\n",
              "      <td>-0.086139</td>\n",
              "      <td>0.255586</td>\n",
              "      <td>0.183515</td>\n",
              "      <td>1.000000</td>\n",
              "      <td>-0.070777</td>\n",
              "    </tr>\n",
              "    <tr>\n",
              "      <th>age</th>\n",
              "      <td>-0.053953</td>\n",
              "      <td>-0.155670</td>\n",
              "      <td>-0.507173</td>\n",
              "      <td>-0.318152</td>\n",
              "      <td>-0.052946</td>\n",
              "      <td>-0.489193</td>\n",
              "      <td>0.026153</td>\n",
              "      <td>0.053636</td>\n",
              "      <td>0.361592</td>\n",
              "      <td>-0.447865</td>\n",
              "      <td>-0.424037</td>\n",
              "      <td>0.133064</td>\n",
              "      <td>0.148370</td>\n",
              "      <td>-0.409993</td>\n",
              "      <td>-0.326377</td>\n",
              "      <td>-0.070777</td>\n",
              "      <td>1.000000</td>\n",
              "    </tr>\n",
              "  </tbody>\n",
              "</table>\n",
              "</div>"
            ],
            "text/plain": [
              "                  price  bedrooms  ...  sqft_lot15       age\n",
              "price          1.000000  0.308787  ...    0.082845 -0.053953\n",
              "bedrooms       0.308787  1.000000  ...    0.030690 -0.155670\n",
              "bathrooms      0.525906  0.514508  ...    0.088303 -0.507173\n",
              "sqft_living    0.701917  0.578212  ...    0.184342 -0.318152\n",
              "sqft_lot       0.089876  0.032471  ...    0.718204 -0.052946\n",
              "floors         0.256804  0.177944  ...   -0.010722 -0.489193\n",
              "waterfront     0.266398 -0.006834  ...    0.030781  0.026153\n",
              "view           0.397370  0.080008  ...    0.072904  0.053636\n",
              "condition      0.036056  0.026496  ...   -0.003126  0.361592\n",
              "grade          0.667951  0.356563  ...    0.120981 -0.447865\n",
              "sqft_above     0.605368  0.479386  ...    0.195077 -0.424037\n",
              "sqft_basement  0.323799  0.302808  ...    0.017550  0.133064\n",
              "lat            0.306692 -0.009951  ...   -0.086139  0.148370\n",
              "long           0.022036  0.132054  ...    0.255586 -0.409993\n",
              "sqft_living15  0.585241  0.393406  ...    0.183515 -0.326377\n",
              "sqft_lot15     0.082845  0.030690  ...    1.000000 -0.070777\n",
              "age           -0.053953 -0.155670  ...   -0.070777  1.000000\n",
              "\n",
              "[17 rows x 17 columns]"
            ]
          },
          "metadata": {
            "tags": []
          },
          "execution_count": 82
        }
      ]
    },
    {
      "cell_type": "code",
      "metadata": {
        "colab": {
          "base_uri": "https://localhost:8080/",
          "height": 596
        },
        "id": "NBrw6c6kuKiN",
        "outputId": "ccc2c03c-1839-4888-d4eb-bcc4821938f7"
      },
      "source": [
        "plt.figure(figsize=(28,10))\n",
        "sns.heatmap(housesale_corr, annot=True)\n",
        "plt.show()"
      ],
      "execution_count": 87,
      "outputs": [
        {
          "output_type": "display_data",
          "data": {
            "image/png": "[encoded data removed]",
            "text/plain": [
              "<Figure size 2016x720 with 2 Axes>"
            ]
          },
          "metadata": {
            "tags": [],
            "needs_background": "light"
          }
        }
      ]
    },
    {
      "cell_type": "code",
      "metadata": {
        "id": "SSpdXCyjuRyl"
      },
      "source": [
        "from sklearn.model_selection import train_test_split"
      ],
      "execution_count": 88,
      "outputs": []
    },
    {
      "cell_type": "code",
      "metadata": {
        "id": "zP1GVYXtuwhG"
      },
      "source": [
        "X = housesale_df.drop('price', axis=1)\n",
        "y = housesale_df['price']"
      ],
      "execution_count": 89,
      "outputs": []
    },
    {
      "cell_type": "code",
      "metadata": {
        "id": "odHP-_QJu4wF"
      },
      "source": [
        "X_train, X_test, y_train, y_test = train_test_split(X, y, test_size=0.2)"
      ],
      "execution_count": 90,
      "outputs": []
    },
    {
      "cell_type": "code",
      "metadata": {
        "colab": {
          "base_uri": "https://localhost:8080/"
        },
        "id": "R8Poyf9hvCb1",
        "outputId": "c9848773-1fc0-4a6d-ee55-463e6b0d6d07"
      },
      "source": [
        "X_train.shape, y_train.shape"
      ],
      "execution_count": 91,
      "outputs": [
        {
          "output_type": "execute_result",
          "data": {
            "text/plain": [
              "((17277, 17), (17277,))"
            ]
          },
          "metadata": {
            "tags": []
          },
          "execution_count": 91
        }
      ]
    },
    {
      "cell_type": "code",
      "metadata": {
        "colab": {
          "base_uri": "https://localhost:8080/"
        },
        "id": "ZNxuqTckvQLt",
        "outputId": "cb27d2bd-00af-42fe-be3d-a07b609ec1da"
      },
      "source": [
        "X_test.shape, y_test.shape"
      ],
      "execution_count": 92,
      "outputs": [
        {
          "output_type": "execute_result",
          "data": {
            "text/plain": [
              "((4320, 17), (4320,))"
            ]
          },
          "metadata": {
            "tags": []
          },
          "execution_count": 92
        }
      ]
    },
    {
      "cell_type": "markdown",
      "metadata": {
        "id": "ENG4cCxGvgjR"
      },
      "source": [
        "## Perfoming Kitchen Sink Regression using ML and Non-ML Techniques"
      ]
    },
    {
      "cell_type": "markdown",
      "metadata": {
        "id": "b842fKPtzWWD"
      },
      "source": [
        "### ML Model from the scikit-learn library"
      ]
    },
    {
      "cell_type": "code",
      "metadata": {
        "id": "ULg2HFyUvU1l"
      },
      "source": [
        "from sklearn.linear_model import LinearRegression"
      ],
      "execution_count": 93,
      "outputs": []
    },
    {
      "cell_type": "code",
      "metadata": {
        "id": "sNT7YFflxAZn"
      },
      "source": [
        "reg_model = LinearRegression().fit(X_train, y_train)"
      ],
      "execution_count": 94,
      "outputs": []
    },
    {
      "cell_type": "code",
      "metadata": {
        "colab": {
          "base_uri": "https://localhost:8080/"
        },
        "id": "R_p8xj6NxG_Y",
        "outputId": "67640f95-e4ae-403c-b0e4-ab58319242b1"
      },
      "source": [
        "print('Training score: ', reg_model.score(X_train, y_train))"
      ],
      "execution_count": 95,
      "outputs": [
        {
          "output_type": "stream",
          "text": [
            "Training score:  0.6914306508420043\n"
          ],
          "name": "stdout"
        }
      ]
    },
    {
      "cell_type": "code",
      "metadata": {
        "colab": {
          "base_uri": "https://localhost:8080/"
        },
        "id": "9H0bm7tWxO6r",
        "outputId": "2e1e24f0-a73f-44d5-eb40-76a24f86c860"
      },
      "source": [
        "predictors = X_train.columns\n",
        "coef = pd.Series(reg_model.coef_, predictors).sort_values()\n",
        "print(coef)"
      ],
      "execution_count": 97,
      "outputs": [
        {
          "output_type": "stream",
          "text": [
            "long            -114282.160073\n",
            "bedrooms         -32133.626310\n",
            "sqft_lot15           -0.490559\n",
            "sqft_lot              0.191728\n",
            "sqft_living15        25.549898\n",
            "sqft_basement        35.528515\n",
            "sqft_above           70.880548\n",
            "sqft_living         106.409063\n",
            "floors              445.699009\n",
            "age                2426.533922\n",
            "condition         31141.615230\n",
            "renovated         42922.350137\n",
            "bathrooms         44271.750276\n",
            "view              51353.211936\n",
            "grade             96193.334009\n",
            "waterfront       566205.094947\n",
            "lat              567789.161062\n",
            "dtype: float64\n"
          ],
          "name": "stdout"
        }
      ]
    },
    {
      "cell_type": "code",
      "metadata": {
        "id": "z-rmjASqyO2D"
      },
      "source": [
        "y_pred = reg_model.predict(X_test)"
      ],
      "execution_count": 101,
      "outputs": []
    },
    {
      "cell_type": "code",
      "metadata": {
        "id": "YKcK7I0Kyhuf"
      },
      "source": [
        "from sklearn.metrics import r2_score"
      ],
      "execution_count": 102,
      "outputs": []
    },
    {
      "cell_type": "code",
      "metadata": {
        "colab": {
          "base_uri": "https://localhost:8080/"
        },
        "id": "GQbCJF-HzHVO",
        "outputId": "e43f2744-4dcb-4710-e7ee-30d3b461a984"
      },
      "source": [
        "print('Testing score: ', r2_score(y_test, y_pred))"
      ],
      "execution_count": 103,
      "outputs": [
        {
          "output_type": "stream",
          "text": [
            "Testing score:  0.710689085976103\n"
          ],
          "name": "stdout"
        }
      ]
    },
    {
      "cell_type": "markdown",
      "metadata": {
        "id": "XwBrWAUezfky"
      },
      "source": [
        "### Non-ML model using statsmodels.api"
      ]
    },
    {
      "cell_type": "code",
      "metadata": {
        "id": "WA0Ur0p4zOAX"
      },
      "source": [
        "import statsmodels.api as sm"
      ],
      "execution_count": 111,
      "outputs": []
    },
    {
      "cell_type": "code",
      "metadata": {
        "id": "nuZJp-rUzphm"
      },
      "source": [
        "X_train_with_const = sm.add_constant(X_train)\n",
        "model = sm.OLS(y_train, X_train_with_const)"
      ],
      "execution_count": 105,
      "outputs": []
    },
    {
      "cell_type": "code",
      "metadata": {
        "id": "ONcTR5jr0Vlv"
      },
      "source": [
        "result = model.fit()"
      ],
      "execution_count": 106,
      "outputs": []
    },
    {
      "cell_type": "code",
      "metadata": {
        "colab": {
          "base_uri": "https://localhost:8080/"
        },
        "id": "hkgeoel30n23",
        "outputId": "450abfea-b136-46fe-85a6-32a309e0ec85"
      },
      "source": [
        "print(result.summary())"
      ],
      "execution_count": 107,
      "outputs": [
        {
          "output_type": "stream",
          "text": [
            "                            OLS Regression Results                            \n",
            "==============================================================================\n",
            "Dep. Variable:                  price   R-squared:                       0.691\n",
            "Model:                            OLS   Adj. R-squared:                  0.691\n",
            "Method:                 Least Squares   F-statistic:                     2417.\n",
            "Date:                Sun, 23 May 2021   Prob (F-statistic):               0.00\n",
            "Time:                        20:02:53   Log-Likelihood:            -2.3553e+05\n",
            "No. Observations:               17277   AIC:                         4.711e+05\n",
            "Df Residuals:                   17260   BIC:                         4.712e+05\n",
            "Df Model:                          16                                         \n",
            "Covariance Type:            nonrobust                                         \n",
            "=================================================================================\n",
            "                    coef    std err          t      P>|t|      [0.025      0.975]\n",
            "---------------------------------------------------------------------------------\n",
            "const          -4.18e+07   1.71e+06    -24.440      0.000   -4.52e+07   -3.85e+07\n",
            "bedrooms      -3.213e+04   2110.603    -15.225      0.000   -3.63e+04    -2.8e+04\n",
            "bathrooms      4.427e+04   3673.186     12.053      0.000    3.71e+04    5.15e+04\n",
            "sqft_living     106.4077      2.572     41.377      0.000     101.367     111.448\n",
            "sqft_lot          0.1917      0.061      3.168      0.002       0.073       0.310\n",
            "floors          445.6990   4010.410      0.111      0.912   -7415.112    8306.510\n",
            "waterfront     5.662e+05   1.97e+04     28.776      0.000    5.28e+05    6.05e+05\n",
            "view           5.135e+04   2385.948     21.523      0.000    4.67e+04     5.6e+04\n",
            "condition      3.114e+04   2621.954     11.877      0.000     2.6e+04    3.63e+04\n",
            "grade          9.619e+04   2427.279     39.630      0.000    9.14e+04    1.01e+05\n",
            "sqft_above       70.8819      2.524     28.083      0.000      65.935      75.829\n",
            "sqft_basement    35.5299      2.961     11.999      0.000      29.726      41.334\n",
            "lat            5.678e+05   1.17e+04     48.359      0.000    5.45e+05    5.91e+05\n",
            "long          -1.143e+05   1.34e+04     -8.546      0.000    -1.4e+05   -8.81e+04\n",
            "sqft_living15    25.5499      3.872      6.599      0.000      17.961      33.139\n",
            "sqft_lot15       -0.4906      0.090     -5.466      0.000      -0.666      -0.315\n",
            "age            2426.5339     80.633     30.094      0.000    2268.486    2584.582\n",
            "renovated      4.292e+04   8050.064      5.332      0.000    2.71e+04    5.87e+04\n",
            "==============================================================================\n",
            "Omnibus:                    14876.722   Durbin-Watson:                   1.979\n",
            "Prob(Omnibus):                  0.000   Jarque-Bera (JB):          1521742.445\n",
            "Skew:                           3.636   Prob(JB):                         0.00\n",
            "Kurtosis:                      48.399   Cond. No.                     1.33e+17\n",
            "==============================================================================\n",
            "\n",
            "Warnings:\n",
            "[1] Standard Errors assume that the covariance matrix of the errors is correctly specified.\n",
            "[2] The smallest eigenvalue is 2.27e-21. This might indicate that there are\n",
            "strong multicollinearity problems or that the design matrix is singular.\n"
          ],
          "name": "stdout"
        }
      ]
    },
    {
      "cell_type": "markdown",
      "metadata": {
        "id": "fhKQ3lrJ8sMI"
      },
      "source": [
        "## Using Univariate Linear Regression Tests to Select Features"
      ]
    },
    {
      "cell_type": "code",
      "metadata": {
        "id": "y5ELeJOm8pQQ"
      },
      "source": [
        "import pandas as pd\n",
        "import pylab\n",
        "import matplotlib.pyplot as plt\n",
        "\n",
        "import statsmodels as sm\n",
        "\n",
        "from sklearn.linear_model import LinearRegression\n",
        "\n",
        "from sklearn.model_selection import train_test_split\n",
        "\n",
        "from sklearn.metrics import r2_score"
      ],
      "execution_count": 110,
      "outputs": []
    },
    {
      "cell_type": "code",
      "metadata": {
        "colab": {
          "base_uri": "https://localhost:8080/"
        },
        "id": "f3tOQScd0sFO",
        "outputId": "3d28ff50-f713-46c2-c602-aab89e4bcdd7"
      },
      "source": [
        "housesale_df.dtypes"
      ],
      "execution_count": 112,
      "outputs": [
        {
          "output_type": "execute_result",
          "data": {
            "text/plain": [
              "price             float64\n",
              "bedrooms            int64\n",
              "bathrooms         float64\n",
              "sqft_living         int64\n",
              "sqft_lot            int64\n",
              "floors            float64\n",
              "waterfront          int64\n",
              "view                int64\n",
              "condition           int64\n",
              "grade               int64\n",
              "sqft_above          int64\n",
              "sqft_basement       int64\n",
              "lat               float64\n",
              "long              float64\n",
              "sqft_living15       int64\n",
              "sqft_lot15          int64\n",
              "age                 int64\n",
              "renovated        category\n",
              "dtype: object"
            ]
          },
          "metadata": {
            "tags": []
          },
          "execution_count": 112
        }
      ]
    },
    {
      "cell_type": "code",
      "metadata": {
        "id": "jrXxrFxN-1bv"
      },
      "source": [
        "housesale_columns = [\n",
        "                     'price', 'bedrooms', 'bathrooms', 'sqft_living', 'sqft_lot', 'floors', 'waterfront', 'view', 'condition', \n",
        "                     'grade', 'sqft_above', 'sqft_basement', 'lat', 'long', 'sqft_living15', 'sqft_lot15', 'age', 'renovated'\n",
        "                     ]"
      ],
      "execution_count": 124,
      "outputs": []
    },
    {
      "cell_type": "code",
      "metadata": {
        "id": "BjPkisvQ_H7F"
      },
      "source": [
        "for col in housesale_columns:\n",
        "  housesale_df[col] = pd.to_numeric(housesale_df[col], downcast=\"float\")"
      ],
      "execution_count": 127,
      "outputs": []
    },
    {
      "cell_type": "code",
      "metadata": {
        "id": "ypNmr74I5JO4",
        "outputId": "5b91b8ae-32aa-490b-f7aa-1e84cb0fb393",
        "colab": {
          "base_uri": "https://localhost:8080/"
        }
      },
      "source": [
        "housesale_df.dtypes"
      ],
      "execution_count": 128,
      "outputs": [
        {
          "output_type": "execute_result",
          "data": {
            "text/plain": [
              "price            float32\n",
              "bedrooms         float32\n",
              "bathrooms        float32\n",
              "sqft_living      float32\n",
              "sqft_lot         float32\n",
              "floors           float32\n",
              "waterfront       float32\n",
              "view             float32\n",
              "condition        float32\n",
              "grade            float32\n",
              "sqft_above       float32\n",
              "sqft_basement    float32\n",
              "lat              float32\n",
              "long             float32\n",
              "sqft_living15    float32\n",
              "sqft_lot15       float32\n",
              "age              float32\n",
              "renovated        float32\n",
              "dtype: object"
            ]
          },
          "metadata": {
            "tags": []
          },
          "execution_count": 128
        }
      ]
    },
    {
      "cell_type": "code",
      "metadata": {
        "id": "Dwr416eF-OHj",
        "outputId": "3f35e2fa-480d-46bb-fd8f-5da03deedaf7",
        "colab": {
          "base_uri": "https://localhost:8080/",
          "height": 204
        }
      },
      "source": [
        "housesale_df.head()"
      ],
      "execution_count": 129,
      "outputs": [
        {
          "output_type": "execute_result",
          "data": {
            "text/html": [
              "<div>\n",
              "<style scoped>\n",
              "    .dataframe tbody tr th:only-of-type {\n",
              "        vertical-align: middle;\n",
              "    }\n",
              "\n",
              "    .dataframe tbody tr th {\n",
              "        vertical-align: top;\n",
              "    }\n",
              "\n",
              "    .dataframe thead th {\n",
              "        text-align: right;\n",
              "    }\n",
              "</style>\n",
              "<table border=\"1\" class=\"dataframe\">\n",
              "  <thead>\n",
              "    <tr style=\"text-align: right;\">\n",
              "      <th></th>\n",
              "      <th>price</th>\n",
              "      <th>bedrooms</th>\n",
              "      <th>bathrooms</th>\n",
              "      <th>sqft_living</th>\n",
              "      <th>sqft_lot</th>\n",
              "      <th>floors</th>\n",
              "      <th>waterfront</th>\n",
              "      <th>view</th>\n",
              "      <th>condition</th>\n",
              "      <th>grade</th>\n",
              "      <th>sqft_above</th>\n",
              "      <th>sqft_basement</th>\n",
              "      <th>lat</th>\n",
              "      <th>long</th>\n",
              "      <th>sqft_living15</th>\n",
              "      <th>sqft_lot15</th>\n",
              "      <th>age</th>\n",
              "      <th>renovated</th>\n",
              "    </tr>\n",
              "  </thead>\n",
              "  <tbody>\n",
              "    <tr>\n",
              "      <th>0</th>\n",
              "      <td>221900.0</td>\n",
              "      <td>3.0</td>\n",
              "      <td>1.00</td>\n",
              "      <td>1180.0</td>\n",
              "      <td>5650.0</td>\n",
              "      <td>1.0</td>\n",
              "      <td>0.0</td>\n",
              "      <td>0.0</td>\n",
              "      <td>3.0</td>\n",
              "      <td>7.0</td>\n",
              "      <td>1180.0</td>\n",
              "      <td>0.0</td>\n",
              "      <td>47.511200</td>\n",
              "      <td>-122.257004</td>\n",
              "      <td>1340.0</td>\n",
              "      <td>5650.0</td>\n",
              "      <td>66.0</td>\n",
              "      <td>0.0</td>\n",
              "    </tr>\n",
              "    <tr>\n",
              "      <th>1</th>\n",
              "      <td>538000.0</td>\n",
              "      <td>3.0</td>\n",
              "      <td>2.25</td>\n",
              "      <td>2570.0</td>\n",
              "      <td>7242.0</td>\n",
              "      <td>2.0</td>\n",
              "      <td>0.0</td>\n",
              "      <td>0.0</td>\n",
              "      <td>3.0</td>\n",
              "      <td>7.0</td>\n",
              "      <td>2170.0</td>\n",
              "      <td>400.0</td>\n",
              "      <td>47.721001</td>\n",
              "      <td>-122.319000</td>\n",
              "      <td>1690.0</td>\n",
              "      <td>7639.0</td>\n",
              "      <td>70.0</td>\n",
              "      <td>1.0</td>\n",
              "    </tr>\n",
              "    <tr>\n",
              "      <th>2</th>\n",
              "      <td>180000.0</td>\n",
              "      <td>2.0</td>\n",
              "      <td>1.00</td>\n",
              "      <td>770.0</td>\n",
              "      <td>10000.0</td>\n",
              "      <td>1.0</td>\n",
              "      <td>0.0</td>\n",
              "      <td>0.0</td>\n",
              "      <td>3.0</td>\n",
              "      <td>6.0</td>\n",
              "      <td>770.0</td>\n",
              "      <td>0.0</td>\n",
              "      <td>47.737900</td>\n",
              "      <td>-122.233002</td>\n",
              "      <td>2720.0</td>\n",
              "      <td>8062.0</td>\n",
              "      <td>88.0</td>\n",
              "      <td>0.0</td>\n",
              "    </tr>\n",
              "    <tr>\n",
              "      <th>3</th>\n",
              "      <td>604000.0</td>\n",
              "      <td>4.0</td>\n",
              "      <td>3.00</td>\n",
              "      <td>1960.0</td>\n",
              "      <td>5000.0</td>\n",
              "      <td>1.0</td>\n",
              "      <td>0.0</td>\n",
              "      <td>0.0</td>\n",
              "      <td>5.0</td>\n",
              "      <td>7.0</td>\n",
              "      <td>1050.0</td>\n",
              "      <td>910.0</td>\n",
              "      <td>47.520802</td>\n",
              "      <td>-122.392998</td>\n",
              "      <td>1360.0</td>\n",
              "      <td>5000.0</td>\n",
              "      <td>56.0</td>\n",
              "      <td>0.0</td>\n",
              "    </tr>\n",
              "    <tr>\n",
              "      <th>4</th>\n",
              "      <td>510000.0</td>\n",
              "      <td>3.0</td>\n",
              "      <td>2.00</td>\n",
              "      <td>1680.0</td>\n",
              "      <td>8080.0</td>\n",
              "      <td>1.0</td>\n",
              "      <td>0.0</td>\n",
              "      <td>0.0</td>\n",
              "      <td>3.0</td>\n",
              "      <td>8.0</td>\n",
              "      <td>1680.0</td>\n",
              "      <td>0.0</td>\n",
              "      <td>47.616798</td>\n",
              "      <td>-122.044998</td>\n",
              "      <td>1800.0</td>\n",
              "      <td>7503.0</td>\n",
              "      <td>34.0</td>\n",
              "      <td>0.0</td>\n",
              "    </tr>\n",
              "  </tbody>\n",
              "</table>\n",
              "</div>"
            ],
            "text/plain": [
              "      price  bedrooms  bathrooms  ...  sqft_lot15   age  renovated\n",
              "0  221900.0       3.0       1.00  ...      5650.0  66.0        0.0\n",
              "1  538000.0       3.0       2.25  ...      7639.0  70.0        1.0\n",
              "2  180000.0       2.0       1.00  ...      8062.0  88.0        0.0\n",
              "3  604000.0       4.0       3.00  ...      5000.0  56.0        0.0\n",
              "4  510000.0       3.0       2.00  ...      7503.0  34.0        0.0\n",
              "\n",
              "[5 rows x 18 columns]"
            ]
          },
          "metadata": {
            "tags": []
          },
          "execution_count": 129
        }
      ]
    },
    {
      "cell_type": "code",
      "metadata": {
        "id": "GAE9AVIb-Tqt"
      },
      "source": [
        "X = housesale_df[housesale_df.columns[1:]]\n",
        "y = housesale_df['price']"
      ],
      "execution_count": 134,
      "outputs": []
    },
    {
      "cell_type": "code",
      "metadata": {
        "id": "pAuTy54B_rZs",
        "outputId": "17666657-573d-4f00-e735-3656b0459b39",
        "colab": {
          "base_uri": "https://localhost:8080/"
        }
      },
      "source": [
        "X.shape, y.shape"
      ],
      "execution_count": 135,
      "outputs": [
        {
          "output_type": "execute_result",
          "data": {
            "text/plain": [
              "((21597, 17), (21597,))"
            ]
          },
          "metadata": {
            "tags": []
          },
          "execution_count": 135
        }
      ]
    },
    {
      "cell_type": "code",
      "metadata": {
        "id": "IeJYtB7Z_r-K"
      },
      "source": [
        "from sklearn.feature_selection import f_regression, SelectKBest"
      ],
      "execution_count": 136,
      "outputs": []
    },
    {
      "cell_type": "code",
      "metadata": {
        "id": "HUS_nDxxAIh7"
      },
      "source": [
        "select_features = SelectKBest(f_regression, k= 3)"
      ],
      "execution_count": 137,
      "outputs": []
    },
    {
      "cell_type": "code",
      "metadata": {
        "id": "g8bdPE5cAPcL"
      },
      "source": [
        "X_new = select_features.fit_transform(X, y)"
      ],
      "execution_count": 138,
      "outputs": []
    },
    {
      "cell_type": "code",
      "metadata": {
        "id": "4W4PNKy6Ax8T",
        "outputId": "e9261b31-9cad-43ac-9da9-1232339190ae",
        "colab": {
          "base_uri": "https://localhost:8080/"
        }
      },
      "source": [
        "X_new.shape"
      ],
      "execution_count": 144,
      "outputs": [
        {
          "output_type": "execute_result",
          "data": {
            "text/plain": [
              "(21597, 3)"
            ]
          },
          "metadata": {
            "tags": []
          },
          "execution_count": 144
        }
      ]
    },
    {
      "cell_type": "code",
      "metadata": {
        "id": "cD5SQQzdAzpi",
        "outputId": "d38e13df-e175-4ed7-b309-2f31ed3f5b91",
        "colab": {
          "base_uri": "https://localhost:8080/",
          "height": 204
        }
      },
      "source": [
        "X_new = pd.DataFrame(X_new)\n",
        "X_new.head()"
      ],
      "execution_count": 140,
      "outputs": [
        {
          "output_type": "execute_result",
          "data": {
            "text/html": [
              "<div>\n",
              "<style scoped>\n",
              "    .dataframe tbody tr th:only-of-type {\n",
              "        vertical-align: middle;\n",
              "    }\n",
              "\n",
              "    .dataframe tbody tr th {\n",
              "        vertical-align: top;\n",
              "    }\n",
              "\n",
              "    .dataframe thead th {\n",
              "        text-align: right;\n",
              "    }\n",
              "</style>\n",
              "<table border=\"1\" class=\"dataframe\">\n",
              "  <thead>\n",
              "    <tr style=\"text-align: right;\">\n",
              "      <th></th>\n",
              "      <th>0</th>\n",
              "      <th>1</th>\n",
              "      <th>2</th>\n",
              "    </tr>\n",
              "  </thead>\n",
              "  <tbody>\n",
              "    <tr>\n",
              "      <th>0</th>\n",
              "      <td>1180.0</td>\n",
              "      <td>7.0</td>\n",
              "      <td>1180.0</td>\n",
              "    </tr>\n",
              "    <tr>\n",
              "      <th>1</th>\n",
              "      <td>2570.0</td>\n",
              "      <td>7.0</td>\n",
              "      <td>2170.0</td>\n",
              "    </tr>\n",
              "    <tr>\n",
              "      <th>2</th>\n",
              "      <td>770.0</td>\n",
              "      <td>6.0</td>\n",
              "      <td>770.0</td>\n",
              "    </tr>\n",
              "    <tr>\n",
              "      <th>3</th>\n",
              "      <td>1960.0</td>\n",
              "      <td>7.0</td>\n",
              "      <td>1050.0</td>\n",
              "    </tr>\n",
              "    <tr>\n",
              "      <th>4</th>\n",
              "      <td>1680.0</td>\n",
              "      <td>8.0</td>\n",
              "      <td>1680.0</td>\n",
              "    </tr>\n",
              "  </tbody>\n",
              "</table>\n",
              "</div>"
            ],
            "text/plain": [
              "        0    1       2\n",
              "0  1180.0  7.0  1180.0\n",
              "1  2570.0  7.0  2170.0\n",
              "2   770.0  6.0   770.0\n",
              "3  1960.0  7.0  1050.0\n",
              "4  1680.0  8.0  1680.0"
            ]
          },
          "metadata": {
            "tags": []
          },
          "execution_count": 140
        }
      ]
    },
    {
      "cell_type": "code",
      "metadata": {
        "id": "ia1vKPDEA69z",
        "outputId": "e3bd9a3b-1cb7-4300-9ce8-504176f2d38b",
        "colab": {
          "base_uri": "https://localhost:8080/"
        }
      },
      "source": [
        "selected_features = []\n",
        "\n",
        "for i in range(len(X_new.columns)):\n",
        "  for j in range(len(X.columns)):\n",
        "    if (X_new.iloc[:,i].equals(X.iloc[:, j])):\n",
        "      selected_features.append(X.columns[j])\n",
        "\n",
        "selected_features"
      ],
      "execution_count": 150,
      "outputs": [
        {
          "output_type": "execute_result",
          "data": {
            "text/plain": [
              "['sqft_living', 'grade', 'sqft_above']"
            ]
          },
          "metadata": {
            "tags": []
          },
          "execution_count": 150
        }
      ]
    },
    {
      "cell_type": "code",
      "metadata": {
        "id": "TQZquMj1BCNi",
        "outputId": "c9f800b6-2078-4ca7-f48e-283a12c6b2bd",
        "colab": {
          "base_uri": "https://localhost:8080/"
        }
      },
      "source": [
        "rejected_features = set(list(X)) - set(selected_features)\n",
        "print(rejected_features)"
      ],
      "execution_count": 153,
      "outputs": [
        {
          "output_type": "stream",
          "text": [
            "{'sqft_lot', 'waterfront', 'sqft_living15', 'bathrooms', 'floors', 'renovated', 'long', 'bedrooms', 'condition', 'sqft_basement', 'lat', 'sqft_lot15', 'view', 'age'}\n"
          ],
          "name": "stdout"
        }
      ]
    },
    {
      "cell_type": "code",
      "metadata": {
        "id": "n5aK-AgyB8h8"
      },
      "source": [
        "X_train, X_test, y_train, y_test = train_test_split(X_new, y, test_size=0.2)"
      ],
      "execution_count": 154,
      "outputs": []
    },
    {
      "cell_type": "code",
      "metadata": {
        "id": "81tsakDgDNps",
        "outputId": "f92123b3-f30b-4d58-f394-f812eebad27f",
        "colab": {
          "base_uri": "https://localhost:8080/"
        }
      },
      "source": [
        "X_train.shape, y_train.shape"
      ],
      "execution_count": 155,
      "outputs": [
        {
          "output_type": "execute_result",
          "data": {
            "text/plain": [
              "((17277, 3), (17277,))"
            ]
          },
          "metadata": {
            "tags": []
          },
          "execution_count": 155
        }
      ]
    },
    {
      "cell_type": "code",
      "metadata": {
        "id": "nufVOCLBDVy9",
        "outputId": "4283f641-b44f-4122-f213-e8af19f4a195",
        "colab": {
          "base_uri": "https://localhost:8080/"
        }
      },
      "source": [
        "X_test.shape, y_test.shape"
      ],
      "execution_count": 156,
      "outputs": [
        {
          "output_type": "execute_result",
          "data": {
            "text/plain": [
              "((4320, 3), (4320,))"
            ]
          },
          "metadata": {
            "tags": []
          },
          "execution_count": 156
        }
      ]
    },
    {
      "cell_type": "code",
      "metadata": {
        "id": "kIfwrH3FDYf0"
      },
      "source": [
        "model = sm.OLS(y_train, X_train)"
      ],
      "execution_count": 157,
      "outputs": []
    },
    {
      "cell_type": "code",
      "metadata": {
        "id": "5gfxnXHlDeT0"
      },
      "source": [
        "result = model.fit()"
      ],
      "execution_count": 158,
      "outputs": []
    },
    {
      "cell_type": "code",
      "metadata": {
        "id": "7RuFbRWcDm1u",
        "outputId": "dd5d50e0-7d91-42d5-b870-f7e0b70e4007",
        "colab": {
          "base_uri": "https://localhost:8080/"
        }
      },
      "source": [
        "print(result.summary())"
      ],
      "execution_count": 159,
      "outputs": [
        {
          "output_type": "stream",
          "text": [
            "                                 OLS Regression Results                                \n",
            "=======================================================================================\n",
            "Dep. Variable:                  price   R-squared (uncentered):                   0.839\n",
            "Model:                            OLS   Adj. R-squared (uncentered):              0.839\n",
            "Method:                 Least Squares   F-statistic:                          3.010e+04\n",
            "Date:                Sun, 23 May 2021   Prob (F-statistic):                        0.00\n",
            "Time:                        21:08:18   Log-Likelihood:                     -2.4006e+05\n",
            "No. Observations:               17277   AIC:                                  4.801e+05\n",
            "Df Residuals:                   17274   BIC:                                  4.801e+05\n",
            "Df Model:                           3                                                  \n",
            "Covariance Type:            nonrobust                                                  \n",
            "==============================================================================\n",
            "                 coef    std err          t      P>|t|      [0.025      0.975]\n",
            "------------------------------------------------------------------------------\n",
            "0            280.2653      4.635     60.461      0.000     271.179     289.351\n",
            "1           3356.8496    852.495      3.938      0.000    1685.874    5027.826\n",
            "2            -32.6960      5.068     -6.452      0.000     -42.630     -22.762\n",
            "==============================================================================\n",
            "Omnibus:                    13251.127   Durbin-Watson:                   2.023\n",
            "Prob(Omnibus):                  0.000   Jarque-Bera (JB):           608181.663\n",
            "Skew:                           3.270   Prob(JB):                         0.00\n",
            "Kurtosis:                      31.321   Cond. No.                     1.28e+03\n",
            "==============================================================================\n",
            "\n",
            "Warnings:\n",
            "[1] Standard Errors assume that the covariance matrix of the errors is correctly specified.\n",
            "[2] The condition number is large, 1.28e+03. This might indicate that there are\n",
            "strong multicollinearity or other numerical problems.\n"
          ],
          "name": "stdout"
        }
      ]
    },
    {
      "cell_type": "markdown",
      "metadata": {
        "id": "TdVbTyvSEhXo"
      },
      "source": [
        "##Defining Helper Functions to Build and Train Multiple Models with Different Training Features"
      ]
    },
    {
      "cell_type": "code",
      "metadata": {
        "id": "vykk1jqDDqQd",
        "outputId": "39e168c2-8b16-4d6b-d9d9-0a3d1441b06b",
        "colab": {
          "base_uri": "https://localhost:8080/"
        }
      },
      "source": [
        "FEATURES = list(housesale_df.columns[1:18])\n",
        "\n",
        "print(FEATURES)"
      ],
      "execution_count": 160,
      "outputs": [
        {
          "output_type": "stream",
          "text": [
            "['bedrooms', 'bathrooms', 'sqft_living', 'sqft_lot', 'floors', 'waterfront', 'view', 'condition', 'grade', 'sqft_above', 'sqft_basement', 'lat', 'long', 'sqft_living15', 'sqft_lot15', 'age', 'renovated']\n"
          ],
          "name": "stdout"
        }
      ]
    },
    {
      "cell_type": "code",
      "metadata": {
        "id": "GWE9GugsE-gW"
      },
      "source": [
        "def build_model(regression_fn,\n",
        "                target,\n",
        "                features,\n",
        "                dataset,\n",
        "                preprocess_fn,\n",
        "                *hyperparameters):\n",
        "  \n",
        "  X = dataset[features]\n",
        "  y = dataset[target]\n",
        "\n",
        "  X = preprocess_fn(X, y, *hyperparameters)\n",
        "\n",
        "  X_train, X_test, y_train, y_test = train_test_split(X, y, test_size=0.2)\n",
        "\n",
        "  model = regression_fn(X_train, y_train)\n",
        "\n",
        "  y_pred = model.predict(X_test)\n",
        "\n",
        "  return {\n",
        "      'X_train' : X_train,\n",
        "      'X_test'  : X_test,\n",
        "      'y_train' : y_train,\n",
        "      'y_test'  : y_test,\n",
        "      'y_pred'  : y_pred,\n",
        "      'model'   : model\n",
        "  }"
      ],
      "execution_count": 189,
      "outputs": []
    },
    {
      "cell_type": "code",
      "metadata": {
        "id": "HjmVa8i6FGQz"
      },
      "source": [
        "def compare_results(result_dict):\n",
        "\n",
        "  for key in result_dict:\n",
        "    print('Test: ', key)\n",
        "    print('R-Squared', result_dict[key]['rsquared'])\n",
        "    print('Adjusted R-Squared', result_dict[key]['adj_rsquared'])\n",
        "\n",
        "  n_components = list(range(1, 18))\n",
        "  reg_score = [result_dict[key]['adj_rsquared'] for key in result_dict]\n",
        "\n",
        "  plt.figure(figsize=(12, 10))\n",
        "  plt.plot(n_components, reg_score)\n",
        "\n",
        "  pylab.ylim([0, 1])\n",
        "\n",
        "  plt.xlabel('N Components')\n",
        "  plt.ylabel('Adjusted R-Squared')\n",
        "\n",
        "  plt.show()"
      ],
      "execution_count": 197,
      "outputs": []
    },
    {
      "cell_type": "code",
      "metadata": {
        "id": "DIC2IwiKHrA9"
      },
      "source": [
        "def get_model_scores(model_params):\n",
        "  result_dict = {}\n",
        "\n",
        "  for key in model_params:\n",
        "    result_dict[key] = {\n",
        "        'rsquared': model_params[key]['model'].rsquared,\n",
        "        'adj_rsquared': model_params[key]['model'].rsquared_adj\n",
        "    }\n",
        "\n",
        "  compare_results(result_dict)"
      ],
      "execution_count": 198,
      "outputs": []
    },
    {
      "cell_type": "code",
      "metadata": {
        "id": "iClBitS9IScg"
      },
      "source": [
        "def ols_reg(X_train, y_train):\n",
        "  \n",
        "  ols = sm.OLS(y_train, X_train)\n",
        "\n",
        "  model = ols.fit()\n",
        "\n",
        "  return model"
      ],
      "execution_count": 199,
      "outputs": []
    },
    {
      "cell_type": "markdown",
      "metadata": {
        "id": "Uu2Vyv-LIvq2"
      },
      "source": [
        "##Finding the Best Value of K"
      ]
    },
    {
      "cell_type": "code",
      "metadata": {
        "id": "ZUe3jxuUIp11"
      },
      "source": [
        "from sklearn.feature_selection import f_regression, SelectKBest"
      ],
      "execution_count": 200,
      "outputs": []
    },
    {
      "cell_type": "code",
      "metadata": {
        "id": "ZfGW9wVbI6xV"
      },
      "source": [
        "def apply_f_regression(X, y, k, add_constant = False):\n",
        "\n",
        "  select_features = SelectKBest(f_regression, k=k)\n",
        "  X_new = select_features.fit_transform(X, y)\n",
        "\n",
        "  if add_constant is True:\n",
        "    X_new = sm.add_constant(X_new)\n",
        "\n",
        "  return pd.DataFrame(X_new)"
      ],
      "execution_count": 201,
      "outputs": []
    },
    {
      "cell_type": "code",
      "metadata": {
        "id": "Sk2hkVciJR6e"
      },
      "source": [
        "model_params = {}\n",
        "\n",
        "for i in range(1, 18):\n",
        "  model_params['f_regression - k: ' + str(i)] = build_model(ols_reg,\n",
        "                                                            'price',\n",
        "                                                            FEATURES,\n",
        "                                                            housesale_df,\n",
        "                                                            apply_f_regression,\n",
        "                                                            i,\n",
        "                                                            True)"
      ],
      "execution_count": 202,
      "outputs": []
    },
    {
      "cell_type": "code",
      "metadata": {
        "id": "CDbeo3fSKI7i",
        "outputId": "7be86ba6-168f-4afd-c6d4-9217deadda99",
        "colab": {
          "base_uri": "https://localhost:8080/",
          "height": 1000
        }
      },
      "source": [
        "get_model_scores(model_params)"
      ],
      "execution_count": 203,
      "outputs": [
        {
          "output_type": "stream",
          "text": [
            "Test:  f_regression - k: 1\n",
            "R-Squared 0.4954494767794311\n",
            "Adjusted R-Squared 0.49542026980268894\n",
            "Test:  f_regression - k: 2\n",
            "R-Squared 0.5329849076321238\n",
            "Adjusted R-Squared 0.5329308361845879\n",
            "Test:  f_regression - k: 3\n",
            "R-Squared 0.5371347160530361\n",
            "Adjusted R-Squared 0.5370543249309472\n",
            "Test:  f_regression - k: 4\n",
            "R-Squared 0.5433726062363415\n",
            "Adjusted R-Squared 0.5432668564925334\n",
            "Test:  f_regression - k: 5\n",
            "R-Squared 0.5449915382649201\n",
            "Adjusted R-Squared 0.5448598121165398\n",
            "Test:  f_regression - k: 6\n",
            "R-Squared 0.5740349246650324\n",
            "Adjusted R-Squared 0.5738869344825188\n",
            "Test:  f_regression - k: 7\n",
            "R-Squared 0.5735658820164449\n",
            "Adjusted R-Squared 0.5734177288775971\n",
            "Test:  f_regression - k: 8\n",
            "R-Squared 0.5857650445994915\n",
            "Adjusted R-Squared 0.5855971342000588\n",
            "Test:  f_regression - k: 9\n",
            "R-Squared 0.6429270286390609\n",
            "Adjusted R-Squared 0.6427616021987732\n",
            "Test:  f_regression - k: 10\n",
            "R-Squared 0.6603311790533862\n",
            "Adjusted R-Squared 0.6601541350162912\n",
            "Test:  f_regression - k: 11\n",
            "R-Squared 0.6609254179020807\n",
            "Adjusted R-Squared 0.660729035079135\n",
            "Test:  f_regression - k: 12\n",
            "R-Squared 0.6598560768583868\n",
            "Adjusted R-Squared 0.6596393619348677\n",
            "Test:  f_regression - k: 13\n",
            "R-Squared 0.6627977823446376\n",
            "Adjusted R-Squared 0.6625633971145714\n",
            "Test:  f_regression - k: 14\n",
            "R-Squared 0.6620687241147455\n",
            "Adjusted R-Squared 0.6618142430519807\n",
            "Test:  f_regression - k: 15\n",
            "R-Squared 0.6958400824353435\n",
            "Adjusted R-Squared 0.6955933996149342\n",
            "Test:  f_regression - k: 16\n",
            "R-Squared 0.6916738788310354\n",
            "Adjusted R-Squared 0.6914059400199855\n",
            "Test:  f_regression - k: 17\n",
            "R-Squared 0.6945730270185113\n",
            "Adjusted R-Squared 0.6942898965684705\n"
          ],
          "name": "stdout"
        },
        {
          "output_type": "display_data",
          "data": {
            "image/png": "[encoded data removed]",
            "text/plain": [
              "<Figure size 864x720 with 1 Axes>"
            ]
          },
          "metadata": {
            "tags": [],
            "needs_background": "light"
          }
        }
      ]
    },
    {
      "cell_type": "code",
      "metadata": {
        "id": "wLBAjhh1KUSn"
      },
      "source": [
        "def linear_reg(X_train, y_train):\n",
        "\n",
        "  model = LinearRegression().fit(X_train, y_train)\n",
        "\n",
        "  return model"
      ],
      "execution_count": 204,
      "outputs": []
    },
    {
      "cell_type": "code",
      "metadata": {
        "id": "fRiHvzGCMSao"
      },
      "source": [
        "sklearn_model = {}\n",
        "\n",
        "sklearn_model['f_regression'] = build_model(linear_reg,\n",
        "                                            'price',\n",
        "                                            FEATURES,\n",
        "                                            housesale_df,\n",
        "                                            apply_f_regression,\n",
        "                                            9)"
      ],
      "execution_count": 211,
      "outputs": []
    },
    {
      "cell_type": "code",
      "metadata": {
        "id": "0jmWyJCXMkwY"
      },
      "source": [
        "model = sklearn_model['f_regression']['model']\n",
        "X_train = sklearn_model['f_regression']['X_train']\n",
        "X_test = sklearn_model['f_regression']['X_test']\n",
        "y_train = sklearn_model['f_regression']['y_train']\n",
        "y_test = sklearn_model['f_regression']['y_test']\n",
        "y_pred = sklearn_model['f_regression']['y_pred']"
      ],
      "execution_count": 212,
      "outputs": []
    },
    {
      "cell_type": "code",
      "metadata": {
        "id": "JyDcx2FJNBtg",
        "outputId": "7af328a3-d696-4ad2-8a95-8ae030ddeba5",
        "colab": {
          "base_uri": "https://localhost:8080/"
        }
      },
      "source": [
        "print('Training score: ', model.score(X_train, y_train))\n",
        "print('Testing score: ', r2_score(y_test, y_pred))"
      ],
      "execution_count": 213,
      "outputs": [
        {
          "output_type": "stream",
          "text": [
            "Training score:  0.6427606829777956\n",
            "Testing score:  0.6282333610176921\n"
          ],
          "name": "stdout"
        }
      ]
    },
    {
      "cell_type": "code",
      "metadata": {
        "id": "PM_c9luyNMN2"
      },
      "source": [
        ""
      ],
      "execution_count": null,
      "outputs": []
    }
  ]
}