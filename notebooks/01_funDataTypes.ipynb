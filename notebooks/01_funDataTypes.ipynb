{
 "metadata": {
  "language_info": {
   "codemirror_mode": {
    "name": "ipython",
    "version": 3
   },
   "file_extension": ".py",
   "mimetype": "text/x-python",
   "name": "python",
   "nbconvert_exporter": "python",
   "pygments_lexer": "ipython3",
   "version": "3.8.6"
  },
  "orig_nbformat": 2,
  "kernelspec": {
   "name": "python386jvsc74a57bd0a020ba815c61d460da92f32c5b2cb75801a158650cf933407948eafcc2b57d41",
   "display_name": "Python 3.8.6 64-bit ('pythonenv': venv)",
   "language": "python"
  }
 },
 "nbformat": 4,
 "nbformat_minor": 2,
 "cells": [
  {
   "cell_type": "code",
   "execution_count": 90,
   "metadata": {},
   "outputs": [],
   "source": [
    "import pandas as pd"
   ]
  },
  {
   "source": [
    "# Introduction and lists"
   ],
   "cell_type": "markdown",
   "metadata": {}
  },
  {
   "cell_type": "code",
   "execution_count": 32,
   "metadata": {},
   "outputs": [],
   "source": [
    "cookies = ['chocolate chip', 'peanut butter', 'sugar']"
   ]
  },
  {
   "source": [
    "## Accessing single items in list"
   ],
   "cell_type": "markdown",
   "metadata": {}
  },
  {
   "cell_type": "code",
   "execution_count": 34,
   "metadata": {},
   "outputs": [
    {
     "output_type": "execute_result",
     "data": {
      "text/plain": [
       "'peanut butter'"
      ]
     },
     "metadata": {},
     "execution_count": 34
    }
   ],
   "source": [
    "cookies[1]"
   ]
  },
  {
   "source": [
    "## Appending items to a list"
   ],
   "cell_type": "markdown",
   "metadata": {}
  },
  {
   "cell_type": "code",
   "execution_count": 35,
   "metadata": {},
   "outputs": [],
   "source": [
    "cookies.append('Tirggel')"
   ]
  },
  {
   "cell_type": "code",
   "execution_count": 36,
   "metadata": {},
   "outputs": [
    {
     "output_type": "execute_result",
     "data": {
      "text/plain": [
       "['chocolate chip', 'peanut butter', 'sugar', 'Tirggel']"
      ]
     },
     "metadata": {},
     "execution_count": 36
    }
   ],
   "source": [
    "cookies"
   ]
  },
  {
   "cell_type": "code",
   "execution_count": 37,
   "metadata": {},
   "outputs": [
    {
     "output_type": "stream",
     "name": "stdout",
     "text": [
      "sugar\n"
     ]
    }
   ],
   "source": [
    "print(cookies[2])"
   ]
  },
  {
   "source": [
    "## Combining Lists"
   ],
   "cell_type": "markdown",
   "metadata": {}
  },
  {
   "cell_type": "code",
   "execution_count": 24,
   "metadata": {},
   "outputs": [],
   "source": [
    "cakes = ['strawberry', 'vanilla']"
   ]
  },
  {
   "cell_type": "code",
   "execution_count": 25,
   "metadata": {},
   "outputs": [],
   "source": [
    "desserts = cookies + cakes"
   ]
  },
  {
   "cell_type": "code",
   "execution_count": 27,
   "metadata": {},
   "outputs": [
    {
     "output_type": "stream",
     "name": "stdout",
     "text": [
      "['chocolate chip', 'peanut butter', 'sugar', 'Tirggel', 'strawberry', 'vanilla']\n"
     ]
    }
   ],
   "source": [
    "print(desserts)"
   ]
  },
  {
   "cell_type": "code",
   "execution_count": 38,
   "metadata": {},
   "outputs": [],
   "source": [
    "icrecream = ['banana', 'mango', 'ice chocolate', 'mocca']"
   ]
  },
  {
   "cell_type": "code",
   "execution_count": 39,
   "metadata": {},
   "outputs": [],
   "source": [
    "desserts.extend(icrecream)"
   ]
  },
  {
   "cell_type": "code",
   "execution_count": 41,
   "metadata": {},
   "outputs": [
    {
     "output_type": "stream",
     "name": "stdout",
     "text": [
      "['chocolate chip', 'peanut butter', 'sugar', 'Tirggel', 'strawberry', 'vanilla', 'banana', 'mango', 'ice chocolate', 'mocca']\n"
     ]
    }
   ],
   "source": [
    "print(desserts)"
   ]
  },
  {
   "source": [
    "## Finding Elements in a list"
   ],
   "cell_type": "markdown",
   "metadata": {}
  },
  {
   "cell_type": "code",
   "execution_count": 48,
   "metadata": {},
   "outputs": [],
   "source": [
    "position = desserts.index('banana')"
   ]
  },
  {
   "cell_type": "code",
   "execution_count": 49,
   "metadata": {},
   "outputs": [
    {
     "output_type": "stream",
     "name": "stdout",
     "text": [
      "6\n"
     ]
    }
   ],
   "source": [
    "print(position)"
   ]
  },
  {
   "cell_type": "code",
   "execution_count": 51,
   "metadata": {},
   "outputs": [
    {
     "output_type": "execute_result",
     "data": {
      "text/plain": [
       "'banana'"
      ]
     },
     "metadata": {},
     "execution_count": 51
    }
   ],
   "source": [
    "desserts[position]"
   ]
  },
  {
   "source": [
    "## Removing Elements in a list"
   ],
   "cell_type": "markdown",
   "metadata": {}
  },
  {
   "cell_type": "code",
   "execution_count": 52,
   "metadata": {},
   "outputs": [],
   "source": [
    "itemname = desserts.pop(position)"
   ]
  },
  {
   "cell_type": "code",
   "execution_count": 53,
   "metadata": {},
   "outputs": [
    {
     "output_type": "stream",
     "name": "stdout",
     "text": [
      "banana\n"
     ]
    }
   ],
   "source": [
    "print(itemname)"
   ]
  },
  {
   "cell_type": "code",
   "execution_count": 54,
   "metadata": {},
   "outputs": [
    {
     "output_type": "stream",
     "name": "stdout",
     "text": [
      "['chocolate chip', 'peanut butter', 'sugar', 'Tirggel', 'strawberry', 'vanilla', 'mango', 'ice chocolate', 'mocca']\n"
     ]
    }
   ],
   "source": [
    "print(desserts)"
   ]
  },
  {
   "source": [
    "## Iterating over lists"
   ],
   "cell_type": "markdown",
   "metadata": {}
  },
  {
   "cell_type": "code",
   "execution_count": 56,
   "metadata": {},
   "outputs": [
    {
     "output_type": "stream",
     "name": "stdout",
     "text": [
      "chocolate chip\npeanut butter\nsugar\nTirggel\nstrawberry\nvanilla\nmango\nice chocolate\nmocca\n"
     ]
    }
   ],
   "source": [
    "for sweet in desserts:\n",
    "    print(sweet)"
   ]
  },
  {
   "source": [
    "## Sorting lists"
   ],
   "cell_type": "markdown",
   "metadata": {}
  },
  {
   "cell_type": "code",
   "execution_count": 58,
   "metadata": {},
   "outputs": [
    {
     "output_type": "stream",
     "name": "stdout",
     "text": [
      "['chocolate chip', 'peanut butter', 'sugar', 'Tirggel', 'strawberry', 'vanilla', 'mango', 'ice chocolate', 'mocca']\n"
     ]
    }
   ],
   "source": [
    "print(desserts)"
   ]
  },
  {
   "cell_type": "code",
   "execution_count": 59,
   "metadata": {},
   "outputs": [],
   "source": [
    "sorted_desserts = sorted(desserts)"
   ]
  },
  {
   "cell_type": "code",
   "execution_count": 67,
   "metadata": {},
   "outputs": [
    {
     "output_type": "stream",
     "name": "stdout",
     "text": [
      "['Tirggel', 'chocolate chip', 'ice chocolate', 'mango', 'mocca', 'peanut butter', 'strawberry', 'sugar', 'vanilla']\n"
     ]
    }
   ],
   "source": [
    "print(sorted_desserts)"
   ]
  },
  {
   "source": [
    "# Meet the Tuples"
   ],
   "cell_type": "markdown",
   "metadata": {}
  },
  {
   "cell_type": "code",
   "execution_count": 83,
   "metadata": {},
   "outputs": [],
   "source": [
    "colors = ['yellow', 'red', 'green', 'orange']\n",
    "fruits = ['banana', 'apple', 'kiwi', 'grapefruit']"
   ]
  },
  {
   "source": [
    "## Zipping tuples"
   ],
   "cell_type": "markdown",
   "metadata": {}
  },
  {
   "cell_type": "code",
   "execution_count": 94,
   "metadata": {},
   "outputs": [
    {
     "output_type": "stream",
     "name": "stdout",
     "text": [
      "[('banana', 'yellow'), ('apple', 'red'), ('kiwi', 'green'), ('grapefruit', 'orange')]\n"
     ]
    }
   ],
   "source": [
    "top_pairs = list(zip(fruits, colors))\n",
    "print(top_pairs)"
   ]
  },
  {
   "cell_type": "code",
   "execution_count": 95,
   "metadata": {},
   "outputs": [],
   "source": [
    "df_pairs = pd.DataFrame(top_pairs, columns=['fruit', 'color'])"
   ]
  },
  {
   "cell_type": "code",
   "execution_count": 96,
   "metadata": {},
   "outputs": [
    {
     "output_type": "execute_result",
     "data": {
      "text/plain": [
       "        fruit   color\n",
       "0      banana  yellow\n",
       "1       apple     red\n",
       "2        kiwi   green\n",
       "3  grapefruit  orange"
      ],
      "text/html": "<div>\n<style scoped>\n    .dataframe tbody tr th:only-of-type {\n        vertical-align: middle;\n    }\n\n    .dataframe tbody tr th {\n        vertical-align: top;\n    }\n\n    .dataframe thead th {\n        text-align: right;\n    }\n</style>\n<table border=\"1\" class=\"dataframe\">\n  <thead>\n    <tr style=\"text-align: right;\">\n      <th></th>\n      <th>fruit</th>\n      <th>color</th>\n    </tr>\n  </thead>\n  <tbody>\n    <tr>\n      <th>0</th>\n      <td>banana</td>\n      <td>yellow</td>\n    </tr>\n    <tr>\n      <th>1</th>\n      <td>apple</td>\n      <td>red</td>\n    </tr>\n    <tr>\n      <th>2</th>\n      <td>kiwi</td>\n      <td>green</td>\n    </tr>\n    <tr>\n      <th>3</th>\n      <td>grapefruit</td>\n      <td>orange</td>\n    </tr>\n  </tbody>\n</table>\n</div>"
     },
     "metadata": {},
     "execution_count": 96
    }
   ],
   "source": [
    "df_pairs"
   ]
  },
  {
   "source": [
    "## Unpacking tuples"
   ],
   "cell_type": "markdown",
   "metadata": {}
  },
  {
   "cell_type": "code",
   "execution_count": 97,
   "metadata": {},
   "outputs": [],
   "source": [
    "fruits_1, colors_1 = top_pairs[0]"
   ]
  },
  {
   "cell_type": "code",
   "execution_count": 98,
   "metadata": {},
   "outputs": [
    {
     "output_type": "stream",
     "name": "stdout",
     "text": [
      "banana\n"
     ]
    }
   ],
   "source": [
    "print(fruits_1)"
   ]
  },
  {
   "cell_type": "code",
   "execution_count": 99,
   "metadata": {},
   "outputs": [
    {
     "output_type": "stream",
     "name": "stdout",
     "text": [
      "yellow\n"
     ]
    }
   ],
   "source": [
    "print(colors_1)"
   ]
  },
  {
   "source": [
    "## More unpacking in Loops"
   ],
   "cell_type": "markdown",
   "metadata": {}
  },
  {
   "cell_type": "code",
   "execution_count": 100,
   "metadata": {},
   "outputs": [
    {
     "output_type": "stream",
     "name": "stdout",
     "text": [
      "yellow\nbanana\nred\napple\ngreen\nkiwi\norange\ngrapefruit\n"
     ]
    }
   ],
   "source": [
    "for fruits, colors in top_pairs:\n",
    "    print(colors)\n",
    "    print(fruits)"
   ]
  },
  {
   "source": [
    "## Enumerating positions"
   ],
   "cell_type": "markdown",
   "metadata": {}
  },
  {
   "cell_type": "code",
   "execution_count": 110,
   "metadata": {},
   "outputs": [
    {
     "output_type": "stream",
     "name": "stdout",
     "text": [
      "0 banana yellow\n1 apple red\n2 kiwi green\n3 grapefruit orange\n"
     ]
    }
   ],
   "source": [
    "for idx, item in enumerate(top_pairs):\n",
    "    fruits, colors = item\n",
    "    print(idx, fruits, colors)"
   ]
  },
  {
   "cell_type": "code",
   "execution_count": null,
   "metadata": {},
   "outputs": [],
   "source": []
  }
 ]
}